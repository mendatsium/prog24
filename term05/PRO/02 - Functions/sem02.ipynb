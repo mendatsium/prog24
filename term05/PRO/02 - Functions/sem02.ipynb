{
 "cells": [
  {
   "cell_type": "markdown",
   "id": "5e9eb933-5e43-4523-9994-09badc99cd06",
   "metadata": {
    "id": "BQTZHFmPbUks"
   },
   "source": [
    "#### Задача 1. \n",
    "\n",
    "Напишите функцию, которая будет принимать слово и проверять, состоит ли оно только из кириллических букв. Функция должна возвращать объект bool (True/False)."
   ]
  },
  {
   "cell_type": "code",
   "execution_count": null,
   "id": "072135e6-59ec-452a-952c-8bab0d036330",
   "metadata": {
    "id": "PewpYgb5bXbt"
   },
   "outputs": [],
   "source": [
    "# your code here"
   ]
  },
  {
   "cell_type": "markdown",
   "id": "8482f943-42d1-4330-8ccd-f0079904630a",
   "metadata": {},
   "source": [
    "#### Задача 2. \n",
    "\n",
    "Напишите функцию, которая будет принимать строку со словами, разделенными пробелами, и возвращать генератор, на каждой итерации выводящий на экран одно из этих слов заглавными буквами. "
   ]
  },
  {
   "cell_type": "code",
   "execution_count": null,
   "id": "c6e6cd6f-2a19-405b-b54f-a39b81254d14",
   "metadata": {
    "id": "PewpYgb5bXbt"
   },
   "outputs": [],
   "source": [
    "# your code here"
   ]
  },
  {
   "cell_type": "markdown",
   "id": "efc94bf9-fa40-4410-822f-1793d11564cb",
   "metadata": {},
   "source": [
    "#### Задача 3. \n",
    "\n",
    "Напишите функцию, которая принимает неограниченное количество аргументов-строк и параметр = метод строки, который затем последовательно применяется к каждой строчке. Результаты можно вернуть списком."
   ]
  },
  {
   "cell_type": "code",
   "execution_count": null,
   "id": "29a34292-3826-4ee1-a59e-d9448c29cbba",
   "metadata": {
    "id": "PewpYgb5bXbt"
   },
   "outputs": [],
   "source": [
    "# your code here"
   ]
  },
  {
   "cell_type": "markdown",
   "id": "aabb2672-a6ac-4a9f-b6c4-b9a74ea084c8",
   "metadata": {},
   "source": [
    "#### Задача 4.\n",
    "\n",
    "Напишите функцию-генератор, которая будет возвращать новые функции, возводящие в степень N. Т.е., функция-генератор принимает в качестве аргумента число N, а возвращает функцию, которая будет принимать число и возвращать его же в степени N."
   ]
  },
  {
   "cell_type": "code",
   "execution_count": null,
   "id": "09bcd3cc-5ffd-4ded-ae62-2bd8e84c0402",
   "metadata": {
    "id": "PewpYgb5bXbt"
   },
   "outputs": [],
   "source": [
    "# your code here"
   ]
  },
  {
   "cell_type": "markdown",
   "id": "8f0fd4aa-62b0-4cad-ad54-9f1b0c684ba9",
   "metadata": {},
   "source": [
    "#### Задача 5. \n",
    "\n",
    "Напишите функцию, которая будет вычислять степень n числа а рекурсивно. "
   ]
  },
  {
   "cell_type": "code",
   "execution_count": null,
   "id": "013401ba-e4b2-4cf5-b5e0-4c0c3fb665be",
   "metadata": {},
   "outputs": [],
   "source": [
    "# your code here"
   ]
  },
  {
   "cell_type": "markdown",
   "id": "d21bcccd-d5b9-4772-9001-0878f15515da",
   "metadata": {
    "tags": []
   },
   "source": [
    "####  Задача 6.\n",
    "\n",
    "Напишите функцию, которая будет находить n-е число Фибоначчи рекурсивно. \n",
    "\n",
    "А теперь за линейное время. "
   ]
  },
  {
   "cell_type": "code",
   "execution_count": null,
   "id": "449f0807-d2e4-44c8-8a82-b1fafa6c06f8",
   "metadata": {},
   "outputs": [],
   "source": [
    "# your code here"
   ]
  },
  {
   "cell_type": "markdown",
   "id": "25c48caa-b4cf-4a89-b536-21585a5a06ca",
   "metadata": {},
   "source": [
    "#### Задача 7.\n",
    "\n",
    "Дано число x. Функция должна возвращать True, если число является степенью 2, и False в обратном случае. Например: 1024 => True (1024 == 2 \\*\\* 10)"
   ]
  },
  {
   "cell_type": "code",
   "execution_count": null,
   "id": "e6544777-a9dd-4281-8b37-49b46aee926c",
   "metadata": {},
   "outputs": [],
   "source": [
    "# your code here"
   ]
  },
  {
   "cell_type": "markdown",
   "id": "d2867276-788b-4b84-b0d7-9dbf0c2d4fea",
   "metadata": {},
   "source": [
    "#### Задача 8. \n",
    "\n",
    "Даны числа от 1 до n (1, 2, 3, ... n). Выведите все перестановки для этих чисел, например:\n",
    "\n",
    "    n = 3\n",
    "    перестановки: \n",
    "    '123'\n",
    "    '132'\n",
    "    '213'\n",
    "    '231'\n",
    "    '312'\n",
    "    '321'"
   ]
  },
  {
   "cell_type": "code",
   "execution_count": null,
   "id": "d2d2d09c-afda-4264-b29e-404d2c1cf08a",
   "metadata": {
    "tags": []
   },
   "outputs": [],
   "source": [
    "# your code here"
   ]
  },
  {
   "cell_type": "markdown",
   "id": "1ea5a607-54e8-4401-97f9-0610c7993f9f",
   "metadata": {},
   "source": [
    "#### Задача 9. \n",
    "\n",
    "Дано натуральное число N. Вычислите сумму его цифр.\n",
    "\n",
    "При решении этой задачи нельзя использовать строки, списки, массивы (ну и циклы, разумеется)."
   ]
  },
  {
   "cell_type": "code",
   "execution_count": null,
   "id": "3570ddd8-29d2-4c9e-b830-bab6c21d6613",
   "metadata": {},
   "outputs": [],
   "source": [
    "# your code here"
   ]
  },
  {
   "cell_type": "markdown",
   "id": "aadb2424-df69-458c-a0c7-b9485f7bf4b9",
   "metadata": {},
   "source": [
    "#### Задача 10.\n",
    "\n",
    "Напишите декоратор, который будет проверять, что все передаваемые в декорируемую функцию аргументы принадлежат классу строка. "
   ]
  },
  {
   "cell_type": "code",
   "execution_count": null,
   "id": "c4afd1a2-45ff-4bf5-b0a0-8c23beae22c6",
   "metadata": {},
   "outputs": [],
   "source": [
    "# your code here"
   ]
  }
 ],
 "metadata": {
  "kernelspec": {
   "display_name": "Python 3 (ipykernel)",
   "language": "python",
   "name": "python3"
  },
  "language_info": {
   "codemirror_mode": {
    "name": "ipython",
    "version": 3
   },
   "file_extension": ".py",
   "mimetype": "text/x-python",
   "name": "python",
   "nbconvert_exporter": "python",
   "pygments_lexer": "ipython3",
   "version": "3.11.5"
  }
 },
 "nbformat": 4,
 "nbformat_minor": 5
}
