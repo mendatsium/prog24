{
 "cells": [
  {
   "cell_type": "markdown",
   "id": "d723113d-4ba8-4db6-a6b5-b39c9c93dcba",
   "metadata": {},
   "source": [
    "#### Задача 1. \n",
    "\n",
    "Напишите функцию, которая будет делить строчку на слова. Избавляться от пунктуации можно при помощи модуля string или метода str.maketrans. Функция должна возвращать генератор, который будет выдавать одно слово за другим."
   ]
  },
  {
   "cell_type": "code",
   "execution_count": null,
   "id": "899cfcc2-0df5-476f-a031-2d0e460a93af",
   "metadata": {},
   "outputs": [],
   "source": [
    "# your code here"
   ]
  },
  {
   "cell_type": "markdown",
   "id": "cbb45a7b-f8fa-4cc4-abbe-e43104934666",
   "metadata": {},
   "source": [
    "#### Задача 2. \n",
    "\n",
    "Шифр Цезаря - самый простой и известный способ шифровать свои данные. Его смысл в том, чтобы все буквы заменить по алфавиту со сдвигом, например, если сдвиг = 2, то буква а превратится в в, б - в г и так далее. Я будет превращаться в б. (Подробнее можно почитать на вики).\n",
    "\n",
    "Напишите функцию для расшифровки строки. Функция принимает строку и число = сдвиг и должна вернуть расшифрованную строку."
   ]
  },
  {
   "cell_type": "code",
   "execution_count": null,
   "id": "32066086-d64e-40a1-96ca-fde712fefbfc",
   "metadata": {},
   "outputs": [],
   "source": [
    "# your code here"
   ]
  },
  {
   "cell_type": "markdown",
   "id": "8a71c8ba-7aa2-4401-801f-58c51f3b18a9",
   "metadata": {},
   "source": [
    "#### Задача 3. \n",
    "\n",
    "Напишите функцию ngrams, которая будет возвращать все n-грамы для списка с любым количеством элементов (слов). Например:\n",
    "\n",
    "    ngrams([1, 2, 3], 2) -> [[1, 2], [2, 3]]\n",
    "    \n",
    "Есть ли готовые реализации такой функции? (свою собственную все равно напишите...)"
   ]
  },
  {
   "cell_type": "code",
   "execution_count": null,
   "id": "f00bd81d-c961-42fd-b388-2fba39491ce0",
   "metadata": {
    "tags": []
   },
   "outputs": [],
   "source": [
    "# your code here"
   ]
  },
  {
   "cell_type": "markdown",
   "id": "6663b7d2-57bc-4a06-9b33-e9c6429b6c2c",
   "metadata": {},
   "source": [
    "#### Задача 4. \n",
    "\n",
    "Допустим, у нас есть функция, которая возвращает сумму своих аргументов. Напишите декоратор, который будет позволять такой функции складывать попарно элементы в кортежах, которые передаются списком, то есть, список [(1, 2), (3, 4)] вернет [3, 7]."
   ]
  },
  {
   "cell_type": "code",
   "execution_count": null,
   "id": "041a8ea8-ab83-47dd-85ca-75ad3e164ce7",
   "metadata": {
    "tags": []
   },
   "outputs": [],
   "source": [
    "# your code here"
   ]
  },
  {
   "cell_type": "markdown",
   "id": "97cb0e22-eb32-45c3-bdda-ab48c3d4eff8",
   "metadata": {},
   "source": [
    "#### Задача 5. \n",
    "\n",
    "Дано число x. Функция должна возвращать True, если число является степенью 3, и False в обратном случае. Например: 27 => True (27 == 3 \\*\\* 3)"
   ]
  },
  {
   "cell_type": "code",
   "execution_count": null,
   "id": "4379eafb-e89d-4a7b-96e8-621ba6f7a80d",
   "metadata": {},
   "outputs": [],
   "source": [
    "# your code here"
   ]
  },
  {
   "cell_type": "markdown",
   "id": "ef09bce2-828b-41aa-8fa5-f5eb5abcf3fc",
   "metadata": {},
   "source": [
    "#### Задача 6 (5 баллов).\n",
    "\n",
    "Даны числа от 1 до n (1, 2, 3, ... n), а также число k < n!. Выведите k-ю перестановку для этих чисел. "
   ]
  },
  {
   "cell_type": "code",
   "execution_count": null,
   "id": "79d335c0-9b5e-4a22-b7d2-7e4dbb889a71",
   "metadata": {},
   "outputs": [],
   "source": [
    "# your code here"
   ]
  }
 ],
 "metadata": {
  "kernelspec": {
   "display_name": "Python 3 (ipykernel)",
   "language": "python",
   "name": "python3"
  },
  "language_info": {
   "codemirror_mode": {
    "name": "ipython",
    "version": 3
   },
   "file_extension": ".py",
   "mimetype": "text/x-python",
   "name": "python",
   "nbconvert_exporter": "python",
   "pygments_lexer": "ipython3",
   "version": "3.11.5"
  }
 },
 "nbformat": 4,
 "nbformat_minor": 5
}
