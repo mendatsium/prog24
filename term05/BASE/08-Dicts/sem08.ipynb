{
 "cells": [
  {
   "cell_type": "markdown",
   "id": "185e87ed-47ce-453f-a658-a387b6694c60",
   "metadata": {
    "id": "haI-ohMx8ReB"
   },
   "source": [
    "1. Зададим словарь, в котором ключами будут выступать названия месяцев, а значениями - количество дней для каждого месяца. "
   ]
  },
  {
   "cell_type": "code",
   "execution_count": 3,
   "id": "ede999a2-d407-40fd-8571-930f001d6d73",
   "metadata": {
    "id": "8RmUe6t18ZP6"
   },
   "outputs": [
    {
     "data": {
      "text/plain": [
       "{'january': 31, 'february': 28, 'march': 31, 'april': 30, 'may': 31}"
      ]
     },
     "execution_count": 3,
     "metadata": {},
     "output_type": "execute_result"
    }
   ],
   "source": [
    "# 1\n",
    "# months = {'jan': 31, 'feb': 28, 'mar': 31, 'apr': 30}\n",
    "\n",
    "# 2\n",
    "# months = {}\n",
    "# for i in range(12):\n",
    "#     month, days = input().split()\n",
    "#     months[month] = int(days)\n",
    "\n",
    "# 3\n",
    "monthlist = 'january february march april may'\n",
    "daylist = '31 28 31 30 31'\n",
    "months = dict(zip(monthlist.split(), [int(d) for d in daylist.split()]))\n",
    "months"
   ]
  },
  {
   "cell_type": "markdown",
   "id": "7bd673b6-2fc4-4153-b964-2c8a8da68d69",
   "metadata": {
    "id": "1RaokA8V8Znw"
   },
   "source": [
    "2. Красиво выведем получившийся словарь в печать. "
   ]
  },
  {
   "cell_type": "code",
   "execution_count": 10,
   "id": "e9e72ce2-fc7c-4909-b87f-ee5169cc0d68",
   "metadata": {
    "id": "C22uKHWM8dQZ"
   },
   "outputs": [
    {
     "name": "stdout",
     "output_type": "stream",
     "text": [
      "january :  31\n",
      "february:  28\n",
      "march   :  31\n",
      "april   :  30\n",
      "may     :  31\n"
     ]
    }
   ],
   "source": [
    "longest = max([len(k) for k in months.keys()])\n",
    "for k, v in months.items():\n",
    "    print(f'{k:<{longest}}: {v:>3}')"
   ]
  },
  {
   "cell_type": "markdown",
   "id": "9bea7b11-a8b2-411c-91cd-0340dbc04929",
   "metadata": {
    "id": "rAfmB4S18eFp"
   },
   "source": [
    "3. Посмотрим отдельно ключи и отдельно значения нашего словаря. "
   ]
  },
  {
   "cell_type": "code",
   "execution_count": 11,
   "id": "b1dec136-d772-4dd4-90bd-e74dc96e078b",
   "metadata": {
    "id": "ZmW5fut28i5B"
   },
   "outputs": [
    {
     "data": {
      "text/plain": [
       "(dict_keys(['january', 'february', 'march', 'april', 'may']),\n",
       " dict_values([31, 28, 31, 30, 31]))"
      ]
     },
     "execution_count": 11,
     "metadata": {},
     "output_type": "execute_result"
    }
   ],
   "source": [
    "months.keys(), months.values()"
   ]
  },
  {
   "cell_type": "markdown",
   "id": "cb2922a6-8bd4-417a-bf4e-21c9cd87fd0c",
   "metadata": {
    "id": "feHRU8_K8jOO"
   },
   "source": [
    "4. Поменяем ключи и значения местами: теперь вместо ключей будет количество дней, а вместо значений - списки месяцев с таким количеством. "
   ]
  },
  {
   "cell_type": "code",
   "execution_count": 16,
   "id": "4e82f338-ed11-4e72-8e9c-e27ef2c4420a",
   "metadata": {
    "id": "ibuhHTmU8vo4"
   },
   "outputs": [
    {
     "data": {
      "text/plain": [
       "{31: ['january', 'march', 'may'], 28: ['february'], 30: ['april']}"
      ]
     },
     "execution_count": 16,
     "metadata": {},
     "output_type": "execute_result"
    }
   ],
   "source": [
    "# 1, 2\n",
    "days = {}\n",
    "for month, day in months.items():\n",
    "    # if day in days:\n",
    "    #     days[day].append(month)\n",
    "    # else:\n",
    "    #     days[day] = [month]\n",
    "\n",
    "    days.setdefault(day, []).append(month)\n",
    "\n",
    "days\n",
    "\n",
    "# fromkeys не сработает"
   ]
  },
  {
   "cell_type": "code",
   "execution_count": 17,
   "id": "f0730030",
   "metadata": {},
   "outputs": [
    {
     "data": {
      "text/plain": [
       "{31: ['january', 'march', 'may'], 28: ['february'], 30: ['april']}"
      ]
     },
     "execution_count": 17,
     "metadata": {},
     "output_type": "execute_result"
    }
   ],
   "source": [
    "from collections import defaultdict\n",
    "\n",
    "days = defaultdict(list)\n",
    "for month, day in months.items():\n",
    "    days[day].append(month)\n",
    "dict(days)"
   ]
  },
  {
   "cell_type": "markdown",
   "id": "f50bcca2-a532-49f5-8f1e-1cb89c9c27fe",
   "metadata": {
    "id": "oi9LKv0r8_yB"
   },
   "source": [
    "5. Заведем словарь с переводами каких-нибудь слов. Хотим добавить перевод для одного из слов, но таким образом, чтобы если там уже был какой-то вариант, он сохранился (н-р, было небо - sky, а мы хотим добавить вариант heaven). "
   ]
  },
  {
   "cell_type": "code",
   "execution_count": null,
   "id": "b1d07d9d-5ef4-4fd9-b080-2a7674f1c88a",
   "metadata": {
    "id": "Si2sVjHUAy1l"
   },
   "outputs": [
    {
     "ename": "ValueError",
     "evalue": "not enough values to unpack (expected 2, got 1)",
     "output_type": "error",
     "traceback": [
      "\u001b[1;31m---------------------------------------------------------------------------\u001b[0m",
      "\u001b[1;31mValueError\u001b[0m                                Traceback (most recent call last)",
      "Cell \u001b[1;32mIn[19], line 3\u001b[0m\n\u001b[0;32m      1\u001b[0m ruseng \u001b[38;5;241m=\u001b[39m {\u001b[38;5;124m'\u001b[39m\u001b[38;5;124mкошка\u001b[39m\u001b[38;5;124m'\u001b[39m: \u001b[38;5;124m'\u001b[39m\u001b[38;5;124mcat\u001b[39m\u001b[38;5;124m'\u001b[39m, \u001b[38;5;124m'\u001b[39m\u001b[38;5;124mзвонить\u001b[39m\u001b[38;5;124m'\u001b[39m: \u001b[38;5;124m'\u001b[39m\u001b[38;5;124mcall\u001b[39m\u001b[38;5;124m'\u001b[39m}\n\u001b[0;32m      2\u001b[0m \u001b[38;5;28;01mwhile\u001b[39;00m \u001b[38;5;28;01mTrue\u001b[39;00m:\n\u001b[1;32m----> 3\u001b[0m     word, translation \u001b[38;5;241m=\u001b[39m \u001b[38;5;28minput\u001b[39m(\u001b[38;5;124m'\u001b[39m\u001b[38;5;124mВведите слово и его перевод через проблел:\u001b[39m\u001b[38;5;124m'\u001b[39m)\u001b[38;5;241m.\u001b[39msplit()\n\u001b[0;32m      4\u001b[0m     \u001b[38;5;28;01mif\u001b[39;00m word \u001b[38;5;241m==\u001b[39m \u001b[38;5;124m'\u001b[39m\u001b[38;5;124mstop\u001b[39m\u001b[38;5;124m'\u001b[39m:\n\u001b[0;32m      5\u001b[0m         \u001b[38;5;28;01mbreak\u001b[39;00m\n",
      "\u001b[1;31mValueError\u001b[0m: not enough values to unpack (expected 2, got 1)"
     ]
    }
   ],
   "source": [
    "ruseng = {'кошка': 'cat', 'звонить': 'call'}\n",
    "while True:\n",
    "    if word == 'stop':\n",
    "        break\n",
    "    word, translation = input('Введите слово и его перевод через проблел:').split()\n",
    "    ruseng.setdefault(word, []).append(translation)\n",
    "\n",
    "ruseng"
   ]
  },
  {
   "cell_type": "markdown",
   "id": "f10e173c-cc94-4b59-a374-a7d387b48190",
   "metadata": {
    "id": "cBjF3PJG8wAp"
   },
   "source": [
    "6. Вводится текст. Нам нужно составить список частот встречающихся в нем слов. Как это сделать?"
   ]
  },
  {
   "cell_type": "code",
   "execution_count": 30,
   "id": "6a2f3f8b-83f4-4a44-afac-30d92ce8d739",
   "metadata": {
    "id": "lLOzVJB583XZ"
   },
   "outputs": [
    {
     "name": "stdout",
     "output_type": "stream",
     "text": [
      "слов      : 4\n",
      "текст     : 2\n",
      "в         : 1\n",
      "длинный   : 1\n",
      "много     : 1\n",
      "мой       : 1\n",
      "нем       : 1\n",
      "очень     : 1\n",
      "прекрасный: 1\n",
      "разных    : 1\n",
      "хороший   : 1\n",
      "это       : 1\n"
     ]
    }
   ],
   "source": [
    "from collections import Counter\n",
    "\n",
    "text = 'Это мой прекрасный длинный текст, очень хороший текст, в нем много разных слов, слов, слов, слов.'\n",
    "text = [word.strip('.,!?').lower() for word in text.split()]\n",
    "count = Counter(text)\n",
    "longest = max([len(k) for k in count.keys()])\n",
    "for k, v in sorted(count.items(), key=lambda t: (-t[1], t[0])):\n",
    "    print(f'{k:<{longest}}: {v}')"
   ]
  },
  {
   "cell_type": "markdown",
   "id": "1982cf47-f1f8-44b7-9f03-6eecff38f545",
   "metadata": {
    "id": "Idp21DCo85Mp"
   },
   "source": [
    "Задача 1. \n",
    "\n",
    "Собираем телефонный справочник. Пользователь в бесконечном цикле вводит фамилию и номер телефона через пробел, пока не введет \"хватит\". Программа должна завести словарь, в котором по фамилии хранится номер телефона. "
   ]
  },
  {
   "cell_type": "code",
   "execution_count": 31,
   "id": "b197b21d-b9b1-4a6a-bc9e-59aa1a820bf0",
   "metadata": {
    "id": "pHDg8luU-WfJ"
   },
   "outputs": [
    {
     "name": "stdout",
     "output_type": "stream",
     "text": [
      "{'петров': '123', 'васильев': '234', 'васечкин': '2345'}\n"
     ]
    }
   ],
   "source": [
    "d = {}\n",
    "while True:\n",
    "    string = input()\n",
    "    if string.lower() == 'хватит':\n",
    "        break\n",
    "    surname, number = string.split()\n",
    "    d[surname] = number\n",
    "print(d)"
   ]
  },
  {
   "cell_type": "markdown",
   "id": "808654c4-5d99-467d-bac9-4074ead39d87",
   "metadata": {
    "id": "dbnbRb1_-Wu4"
   },
   "source": [
    "Задача 2.\n",
    "\n",
    "Превратим англо-русский словарь в русско-английский. В исходном англо-русском словаре для одного английского слова могут идти в алфавитном порядке русские варианты перевода:\n",
    "\n",
    "    'call': ['звать', 'звонить', 'называть']\n",
    "\n",
    "Может быть и такая ситуация, что одно и то же русское слово встречается в переводах двух английских слов:\n",
    "\n",
    "    'name': ['имя', 'называть']\n",
    "\n",
    "Наш русско-английский словарь должен правильно перевернуться: не потерять ни одного перевода, при этом английские переводы тоже должны быть в алфавитном порядке. Программа должна вывести новый словарь на экран: русские слова должны быть отсортированы, как и их переводы. "
   ]
  },
  {
   "cell_type": "code",
   "execution_count": 33,
   "id": "3f60206e-5348-482b-8b54-11ace01a54c4",
   "metadata": {
    "id": "0KSgVR6f_8Y7"
   },
   "outputs": [
    {
     "name": "stdout",
     "output_type": "stream",
     "text": [
      "вызов call\n",
      "звонить call\n",
      "кошка cat\n",
      "небо sky\n"
     ]
    }
   ],
   "source": [
    "engrus = {}\n",
    "while True:\n",
    "    string = input()\n",
    "    if string.lower() == 'хватит':\n",
    "        break\n",
    "    eng, rus = string.split()\n",
    "    engrus.setdefault(eng, []).append(rus)\n",
    "\n",
    "ruseng = {}\n",
    "for eng, rus in engrus.items():\n",
    "    for j in rus:\n",
    "        ruseng.setdefault(j, []).append(eng)\n",
    "\n",
    "for rus, eng in sorted(ruseng.items()):\n",
    "    print(rus, ', '.join(sorted(eng)))"
   ]
  },
  {
   "cell_type": "markdown",
   "id": "d60c2570-2f69-47f7-a554-3425b2198c66",
   "metadata": {
    "id": "SPYdDDEyAB2B"
   },
   "source": [
    "Задача 3.\n",
    "\n",
    "Вводится текст. Нам нужно посчитать относительные частоты всех его слов: то есть, частоты слов нужно дополнительно поделить на общее их количество. "
   ]
  },
  {
   "cell_type": "code",
   "execution_count": 38,
   "id": "be1dba4f-622e-4f77-8a22-06bfe0530f28",
   "metadata": {
    "id": "Urik8JgSAUt6"
   },
   "outputs": [
    {
     "name": "stdout",
     "output_type": "stream",
     "text": [
      "В               1\n",
      "проекте         1\n",
      "немецкого       1\n",
      "архитектора     1\n",
      "Эрнста-Рихарда  1\n",
      "Карловича       1\n",
      "Нирнзее         1\n",
      "было            1\n",
      "целых           1\n",
      "две             1\n",
      "театральные     1\n",
      "площадки        1\n",
      "—               1\n",
      "в               5\n",
      "подвале         2\n",
      "и               3\n",
      "на              2\n",
      "крыше           2\n",
      "дома            1\n",
      "Сцена           1\n",
      "скоро           1\n",
      "была            1\n",
      "закрыта         1\n",
      "а               1\n",
      "первым          1\n",
      "1915            2\n",
      "году            1\n",
      "расположился    1\n",
      "к               1\n",
      "тому            1\n",
      "времени         1\n",
      "уже             1\n",
      "знаменитый      1\n",
      "театр-кабаре    1\n",
      "«Летучая        1\n",
      "мышь»           1\n",
      "Никиты          1\n",
      "Балиева         1\n",
      "Художник        1\n",
      "Сергей          1\n",
      "Судейкин        1\n",
      "расписал        1\n",
      "фойе            1\n",
      "по              1\n",
      "его             1\n",
      "же              1\n",
      "эскизам         1\n",
      "сделали         1\n",
      "занавес         1\n",
      "с               1\n",
      "гирляндами      1\n",
      "роз             1\n",
      "Первое          1\n",
      "представление   1\n",
      "состоялось      1\n",
      "сентябре        1\n",
      "года            1\n",
      "присутствии     1\n",
      "Максима         1\n",
      "Горького        1\n",
      "других          1\n",
      "известных       1\n",
      "гостей          1\n"
     ]
    }
   ],
   "source": [
    "from collections import Counter\n",
    "from string import punctuation\n",
    "\n",
    "text = '''В проекте немецкого архитектора Эрнста-Рихарда Карловича Нирнзее \n",
    "было целых две театральные площадки — в подвале и на крыше дома. \n",
    "Сцена на крыше скоро была закрыта, а в подвале первым в 1915 году \n",
    "расположился к тому времени уже знаменитый театр-кабаре «Летучая мышь» \n",
    "Никиты Балиева. Художник Сергей Судейкин расписал фойе, по его же эскизам \n",
    "сделали и занавес с гирляндами роз. Первое представление состоялось в сентябре \n",
    "1915 года в присутствии Максима Горького и других известных гостей.'''\n",
    "\n",
    "text = [word.strip(punctuation) for word in text.split()]\n",
    "count = Counter(text)\n",
    "for k, v in count.items():\n",
    "    print(f'{k:<15} {v}')"
   ]
  },
  {
   "cell_type": "markdown",
   "id": "dd066c73-6dad-443e-b203-406b9f845200",
   "metadata": {
    "id": "L2UI5gFcCo-L"
   },
   "source": [
    "Задача 4. \n",
    "\n",
    "У нас есть два списка: в одном по порядку записаны имена людей, а в другом их дни рождения (формат неважен, можно в строках). Нам нужно объединить два списка в словарь, где ключ - имя, а значение - день рождения, причем мы знаем, что дни рождения в том же порядке, что и имена людей. "
   ]
  },
  {
   "cell_type": "code",
   "execution_count": 42,
   "id": "a599868e-b9fe-49ac-b52e-a8d4170dff2d",
   "metadata": {
    "id": "HMNnRgTbDbGr"
   },
   "outputs": [
    {
     "data": {
      "text/plain": [
       "{'петя': '11', 'маша': '12', 'соня': '13'}"
      ]
     },
     "execution_count": 42,
     "metadata": {},
     "output_type": "execute_result"
    }
   ],
   "source": [
    "names = input().split()\n",
    "bd = input().split()\n",
    "\n",
    "dict(zip(names, bd))"
   ]
  },
  {
   "cell_type": "markdown",
   "id": "989462d4-c74c-4bc1-b8cc-0b5d15f39017",
   "metadata": {
    "id": "4dZDMRTtEAkC"
   },
   "source": [
    "Задача 5 (2 балла)\n",
    "\n",
    "В ячейке представлен автоматический морфологический разбор предложения. Изучите этот разбор. Посчитайте, сколько в нем словарей, выведите, какие у словарей есть ключи. \n",
    "\n",
    "Посчитайте, сколько в предложении слов. \n",
    "\n",
    "Попробуйте посчитать, сколько там глаголов и существительных (это можно сделать с помощью str.startswith() - метода строки, который проверяет, что строчка начинается на аргумент этого метода). \n",
    "\n",
    "Подумайте, что означают слова со значением ключа bastard?"
   ]
  },
  {
   "cell_type": "code",
   "execution_count": 44,
   "id": "bd85eca6-238b-4f6c-bd93-b67eaad398ba",
   "metadata": {
    "id": "XgBNzvIrFE2q"
   },
   "outputs": [],
   "source": [
    "analyze = [{'analysis': [{'lex': 'это', 'gr': 'SPRO,ед,сред,неод=(вин|им)'}], 'text': 'Это'}, {'text': ' '}, \n",
    "           {'analysis': [{'lex': 'быть', 'gr': 'V,нп=прош,ед,изъяв,сред,несов'}], 'text': 'было'}, {'text': ' '}, \n",
    "           {'analysis': [{'lex': 'у', 'gr': 'PR='}], 'text': 'у'}, {'text': ' '}, \n",
    "           {'analysis': [{'lex': 'место', 'gr': 'S,сред,неод=(вин,мн|род,ед|им,мн)'}], 'text': 'места'}, {'text': ', '}, \n",
    "           {'analysis': [{'lex': 'потому', 'gr': 'ADVPRO='}], 'text': 'потому'}, {'text': ' '}, \n",
    "           {'analysis': [{'lex': 'что', 'gr': 'CONJ='}], 'text': 'что'}, {'text': ' '}, \n",
    "           {'analysis': [{'lex': 'фемистоклюс', 'qual': 'bastard', 'gr': 'S,фам,муж,од=им,ед'}], 'text': 'Фемистоклюс'}, {'text': ' '}, \n",
    "           {'analysis': [{'lex': 'укусить', 'gr': 'V,сов,пе=прош,ед,изъяв,муж'}], 'text': 'укусил'}, {'text': ' '}, \n",
    "           {'analysis': [{'lex': 'за', 'gr': 'PR='}], 'text': 'за'}, {'text': ' '}, \n",
    "           {'analysis': [{'lex': 'ухо', 'gr': 'S,сред,неод=(вин,ед|им,ед)'}], 'text': 'ухо'}, {'text': ' '}, \n",
    "           {'analysis': [{'lex': 'алкид', 'qual': 'bastard', 'gr': 'S,муж,неод=род,ед'}], 'text': 'Алкида'}, {'text': ', '}, \n",
    "           {'analysis': [{'lex': 'и', 'gr': 'CONJ='}], 'text': 'и'}, {'text': ' '}, \n",
    "           {'analysis': [{'lex': 'алкид', 'qual': 'bastard', 'gr': 'S,муж,неод=(вин,ед|им,ед)'}], 'text': 'Алкид'}, {'text': ', '}, \n",
    "           {'analysis': [{'lex': 'зажмуривать', 'gr': 'V,пе=прош,деепр,сов'}], 'text': 'зажмурив'}, {'text': ' '}, \n",
    "           {'analysis': [{'lex': 'глаз', 'gr': 'S,муж,неод=(вин,мн|род,ед|им,мн)'}], 'text': 'глаза'}, {'text': ' '}, \n",
    "           {'analysis': [{'lex': 'и', 'gr': 'CONJ='}], 'text': 'и'}, {'text': ' '}, \n",
    "           {'analysis': [{'lex': 'открывать', 'gr': 'V=прош,деепр,сов'}], 'text': 'открыв'}, {'text': ' '}, \n",
    "           {'analysis': [{'lex': 'рот', 'gr': 'S,муж,неод=(вин,ед|им,ед)'}], 'text': 'рот'}, {'text': ', '}, \n",
    "           {'analysis': [{'lex': 'готовый', 'gr': 'A=ед,кр,муж'}], 'text': 'готов'}, {'text': ' '}, \n",
    "           {'analysis': [{'lex': 'быть', 'gr': 'V,нп=прош,ед,изъяв,муж,несов'}], 'text': 'был'}, {'text': ' '}, \n",
    "           {'analysis': [{'lex': 'зарыдать', 'gr': 'V,сов,нп=инф'}], 'text': 'зарыдать'}, {'text': ' '}, \n",
    "           {'analysis': [{'lex': 'самый', 'gr': 'APRO=(дат,мн|твор,ед,муж|твор,ед,сред)'}], 'text': 'самым'}, {'text': ' '}, \n",
    "           {'analysis': [{'lex': 'жалкий', 'gr': 'A=(дат,мн,полн|твор,ед,полн,муж|твор,ед,полн,сред)'}], 'text': 'жалким'}, {'text': ' '}, \n",
    "           {'analysis': [{'lex': 'образ', 'gr': 'S,муж,неод=твор,ед'}], 'text': 'образом'}, {'text': ', '}, \n",
    "           {'analysis': [{'lex': 'но', 'gr': 'CONJ='}], 'text': 'но'}, {'text': ', '}, {'analysis': [{'lex': 'почувствовать', 'gr': 'V,сов,пе=прош,деепр'}], 'text': 'почувствовав'}, {'text': ', '}, \n",
    "           {'analysis': [{'lex': 'что', 'gr': 'CONJ='}], 'text': 'что'}, {'text': ' '}, \n",
    "           {'analysis': [{'lex': 'за', 'gr': 'PR='}], 'text': 'за'}, {'text': ' '}, \n",
    "           {'analysis': [{'lex': 'это', 'gr': 'SPRO,ед,сред,неод=(вин|им)'}], 'text': 'это'}, {'text': ' '}, \n",
    "           {'analysis': [{'lex': 'легко', 'gr': 'ADV='}], 'text': 'легко'}, {'text': ' '}, \n",
    "           {'analysis': [{'lex': 'можно', 'gr': 'ADV,прдк='}], 'text': 'можно'}, {'text': ' '}, \n",
    "           {'analysis': [{'lex': 'быть', 'gr': 'V,нп=прош,ед,изъяв,сред,несов'}], 'text': 'было'}, {'text': ' '}, \n",
    "           {'analysis': [{'lex': 'лишаться', 'gr': 'V,нп=инф,сов'}], 'text': 'лишиться'}, {'text': ' '}, \n",
    "           {'analysis': [{'lex': 'блюдо', 'gr': 'S,сред,неод=(вин,мн|род,ед|им,мн)'}], 'text': 'блюда'}, {'text': ', '}, \n",
    "           {'analysis': [{'lex': 'приводить', 'gr': 'V=прош,ед,изъяв,муж,сов'}], 'text': 'привел'}, {'text': ' '}, \n",
    "           {'analysis': [{'lex': 'рот', 'gr': 'S,муж,неод=(вин,ед|им,ед)'}], 'text': 'рот'}, {'text': ' '}, \n",
    "           {'analysis': [{'lex': 'в', 'gr': 'PR='}], 'text': 'в'}, {'text': ' '}, \n",
    "           {'analysis': [{'lex': 'прежний', 'gr': 'A=(вин,ед,полн,сред|им,ед,полн,сред)'}], 'text': 'прежнее'}, {'text': ' '}, \n",
    "           {'analysis': [{'lex': 'положение', 'gr': 'S,сред,неод=(вин,ед|им,ед)'}], 'text': 'положение'}, {'text': ' '}, \n",
    "           {'analysis': [{'lex': 'и', 'gr': 'CONJ='}], 'text': 'и'}, {'text': ' '}, \n",
    "           {'analysis': [{'lex': 'начинать', 'gr': 'V,пе=прош,ед,изъяв,муж,сов'}], 'text': 'начал'}, {'text': ' '}, \n",
    "           {'analysis': [{'lex': 'со', 'gr': 'PR='}], 'text': 'со'}, {'text': ' '}, \n",
    "           {'analysis': [{'lex': 'слеза', 'gr': 'S,жен,неод=твор,мн'}], 'text': 'слезами'}, {'text': ' '}, \n",
    "           {'analysis': [{'lex': 'грызть', 'gr': 'V,несов,пе=инф'}], 'text': 'грызть'}, {'text': ' '}, \n",
    "           {'analysis': [{'lex': 'бараний', 'gr': 'A,полн=вин,ед,жен'}], 'text': 'баранью'}, {'text': ' '}, \n",
    "           {'analysis': [{'lex': 'кость', 'gr': 'S,жен,неод=(вин,ед|им,ед)'}], 'text': 'кость'}, {'text': ', '}, \n",
    "           {'analysis': [{'lex': 'от', 'gr': 'PR='}], 'text': 'от'}, {'text': ' '}, \n",
    "           {'analysis': [{'lex': 'который', 'gr': 'APRO=(пр,ед,жен|дат,ед,жен|род,ед,жен|твор,ед,жен)'}], 'text': 'которой'}, {'text': ' '}, \n",
    "           {'analysis': [{'lex': 'у', 'gr': 'PR='}], 'text': 'у'}, {'text': ' '}, \n",
    "           {'analysis': [{'lex': 'он', 'gr': 'SPRO,ед,3-л,муж=(вин|род)'}], 'text': 'него'}, {'text': ' '}, \n",
    "           {'analysis': [{'lex': 'оба', 'gr': 'NUM=(им,жен|вин,жен,неод)'}], 'text': 'обе'}, {'text': ' '}, \n",
    "           {'analysis': [{'lex': 'щека', 'gr': 'S,жен,неод=(вин,мн|род,ед|им,мн)'}], 'text': 'щеки'}, {'text': ' '}, \n",
    "           {'analysis': [{'lex': 'лосниться', 'gr': 'V,несов,нп=прош,мн,изъяв'}], 'text': 'лоснились'}, {'text': ' '}, \n",
    "           {'analysis': [{'lex': 'жир', 'gr': 'S,муж,неод=твор,ед'}], 'text': 'жиром'}, {'text': '.'}, {'text': '\\n'}]\n"
   ]
  },
  {
   "cell_type": "code",
   "execution_count": 47,
   "id": "0b94e44b",
   "metadata": {},
   "outputs": [
    {
     "data": {
      "text/plain": [
       "54"
      ]
     },
     "execution_count": 47,
     "metadata": {},
     "output_type": "execute_result"
    }
   ],
   "source": [
    "count = 0\n",
    "for word in analyze:\n",
    "    if 'analysis' in word.keys():\n",
    "        count += 1\n",
    "count"
   ]
  },
  {
   "cell_type": "code",
   "execution_count": 53,
   "id": "d3ad7d57",
   "metadata": {},
   "outputs": [
    {
     "name": "stdout",
     "output_type": "stream",
     "text": [
      "13 18\n"
     ]
    }
   ],
   "source": [
    "count_v = 0\n",
    "count_n = 0\n",
    "for word in analyze:\n",
    "    if 'analysis' in word.keys():\n",
    "        # print(word['analysis'][0]['lex'], word['analysis'][0]['gr'])\n",
    "        if word['analysis'][0]['gr'].startswith('V'):\n",
    "            count_v += 1\n",
    "        if word['analysis'][0]['gr'].startswith('S'):\n",
    "            count_n += 1\n",
    "\n",
    "print(count_v, count_n)"
   ]
  }
 ],
 "metadata": {
  "kernelspec": {
   "display_name": "Python 3",
   "language": "python",
   "name": "python3"
  },
  "language_info": {
   "codemirror_mode": {
    "name": "ipython",
    "version": 3
   },
   "file_extension": ".py",
   "mimetype": "text/x-python",
   "name": "python",
   "nbconvert_exporter": "python",
   "pygments_lexer": "ipython3",
   "version": "3.11.4"
  }
 },
 "nbformat": 4,
 "nbformat_minor": 5
}
