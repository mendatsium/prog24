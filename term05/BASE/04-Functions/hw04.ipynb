{
 "cells": [
  {
   "cell_type": "markdown",
   "id": "fb0eb8fc-2ec3-404e-bd49-bb194ab99d36",
   "metadata": {
    "id": "rkhg0KaxbgUl"
   },
   "source": [
    "#### Задача 1. \n",
    "\n",
    "Напишите функцию, которая делает то же, что функция в семинарской задаче 1, но используйте рекурсию. \n",
    "\n",
    "(Напишите функцию, которая принимает два целых числа a и b и возвращает результат возведения в степень a ** b)"
   ]
  },
  {
   "cell_type": "code",
   "execution_count": 2,
   "id": "f94da827-50f3-4bd9-82c5-c6913681f285",
   "metadata": {
    "id": "ufWyhdbGbjqU"
   },
   "outputs": [
    {
     "name": "stdout",
     "output_type": "stream",
     "text": [
      "8\n"
     ]
    }
   ],
   "source": [
    "def power(a, b):\n",
    "    if b == 0:\n",
    "        return 1\n",
    "    return power(a, b - 1) * a\n",
    "\n",
    "a, b = int(input()), int(input())\n",
    "print(power(a, b))"
   ]
  },
  {
   "cell_type": "markdown",
   "id": "0f66f844-8d9e-4cd5-83bd-f5c73e0d6ad5",
   "metadata": {
    "id": "A-OsgpSsbkBM"
   },
   "source": [
    "#### Задача 2. \n",
    "\n",
    "Напишите функцию, которая выводит таблицу умножения. Отформатируйте вывод таким образом, чтобы образовалась сеточка из чисел:\n",
    "\n",
    "    1 2 3 4  5\n",
    "    2 4 6 8 10\n",
    "    ...\n",
    "\n",
    "(Мы с вами подобное уже, кажется, делали, теперь достаточно оформить именно в функцию, чтобы можно было рисовать сеточку не до 9, а до такого числа, какое мы в функцию передадим). "
   ]
  },
  {
   "cell_type": "code",
   "execution_count": 26,
   "id": "dfedf943-0edb-457d-9f5d-7c04f0c1e133",
   "metadata": {
    "id": "QcVBpNacb3S8"
   },
   "outputs": [
    {
     "name": "stdout",
     "output_type": "stream",
     "text": [
      "1\t2\t3\t4\t5\t6\t7\t8\t9\t10\t11\t12\t13\t14\t15\t\n",
      "2\t4\t6\t8\t10\t12\t14\t16\t18\t20\t22\t24\t26\t28\t30\t\n",
      "3\t6\t9\t12\t15\t18\t21\t24\t27\t30\t33\t36\t39\t42\t45\t\n",
      "4\t8\t12\t16\t20\t24\t28\t32\t36\t40\t44\t48\t52\t56\t60\t\n",
      "5\t10\t15\t20\t25\t30\t35\t40\t45\t50\t55\t60\t65\t70\t75\t\n",
      "6\t12\t18\t24\t30\t36\t42\t48\t54\t60\t66\t72\t78\t84\t90\t\n",
      "7\t14\t21\t28\t35\t42\t49\t56\t63\t70\t77\t84\t91\t98\t105\t\n",
      "8\t16\t24\t32\t40\t48\t56\t64\t72\t80\t88\t96\t104\t112\t120\t\n",
      "9\t18\t27\t36\t45\t54\t63\t72\t81\t90\t99\t108\t117\t126\t135\t\n",
      "10\t20\t30\t40\t50\t60\t70\t80\t90\t100\t110\t120\t130\t140\t150\t\n",
      "11\t22\t33\t44\t55\t66\t77\t88\t99\t110\t121\t132\t143\t154\t165\t\n",
      "12\t24\t36\t48\t60\t72\t84\t96\t108\t120\t132\t144\t156\t168\t180\t\n",
      "13\t26\t39\t52\t65\t78\t91\t104\t117\t130\t143\t156\t169\t182\t195\t\n",
      "14\t28\t42\t56\t70\t84\t98\t112\t126\t140\t154\t168\t182\t196\t210\t\n",
      "15\t30\t45\t60\t75\t90\t105\t120\t135\t150\t165\t180\t195\t210\t225\t\n"
     ]
    }
   ],
   "source": [
    "def table(a):\n",
    "    lenght = len(str(a * a))\n",
    "    for i in range(1, a + 1):\n",
    "        for j in range(1, a + 1):\n",
    "            print(i * j, end=\"\\t\") # тупое решение\n",
    "        print()\n",
    "\n",
    "a = int(input())\n",
    "table(a)"
   ]
  },
  {
   "cell_type": "code",
   "execution_count": 23,
   "id": "4dcbe8a2",
   "metadata": {},
   "outputs": [
    {
     "name": "stdout",
     "output_type": "stream",
     "text": [
      "1   2   3   4   5   6   7   8   9   10  11  12  13  14  15  \n",
      "2   4   6   8   10  12  14  16  18  20  22  24  26  28  30  \n",
      "3   6   9   12  15  18  21  24  27  30  33  36  39  42  45  \n",
      "4   8   12  16  20  24  28  32  36  40  44  48  52  56  60  \n",
      "5   10  15  20  25  30  35  40  45  50  55  60  65  70  75  \n",
      "6   12  18  24  30  36  42  48  54  60  66  72  78  84  90  \n",
      "7   14  21  28  35  42  49  56  63  70  77  84  91  98  105 \n",
      "8   16  24  32  40  48  56  64  72  80  88  96  104 112 120 \n",
      "9   18  27  36  45  54  63  72  81  90  99  108 117 126 135 \n",
      "10  20  30  40  50  60  70  80  90  100 110 120 130 140 150 \n",
      "11  22  33  44  55  66  77  88  99  110 121 132 143 154 165 \n",
      "12  24  36  48  60  72  84  96  108 120 132 144 156 168 180 \n",
      "13  26  39  52  65  78  91  104 117 130 143 156 169 182 195 \n",
      "14  28  42  56  70  84  98  112 126 140 154 168 182 196 210 \n",
      "15  30  45  60  75  90  105 120 135 150 165 180 195 210 225 \n"
     ]
    }
   ],
   "source": [
    "def table(a):\n",
    "    lenght = len(str(a * a))\n",
    "    for i in range(1, a + 1):\n",
    "        for j in range(1, a + 1):\n",
    "            print(str(i * j).ljust(lenght), end=' ') # умное нагугленное решение\n",
    "        print()\n",
    "\n",
    "a = int(input())\n",
    "table(a)"
   ]
  },
  {
   "cell_type": "markdown",
   "id": "137562ee-4f17-464f-a1a6-1b392ef030c2",
   "metadata": {
    "id": "TMLSOYfLb3vj"
   },
   "source": [
    "#### Задача 3. \n",
    "\n",
    "Напишите функцию, которая будет принимать числа a и b, делить их и выводить ответ в формате a / b = c, при этом число c должно быть округлено до двух знаков после запятой. Если знаете варианты, как это можно сделать, напишите варианты."
   ]
  },
  {
   "cell_type": "code",
   "execution_count": 34,
   "id": "3ea74a52-0156-4d38-a6c3-0861dd912af5",
   "metadata": {
    "id": "lL2OF1Mbb68D"
   },
   "outputs": [
    {
     "name": "stdout",
     "output_type": "stream",
     "text": [
      "1 / 3 = 0.33\n"
     ]
    }
   ],
   "source": [
    "def div(a, b):\n",
    "    print(f'{a} / {b} = {a / b:.2f}')\n",
    "\n",
    "a, b = int(input()), int(input())\n",
    "div(a, b)"
   ]
  },
  {
   "cell_type": "code",
   "execution_count": 33,
   "id": "1abc9989",
   "metadata": {},
   "outputs": [
    {
     "name": "stdout",
     "output_type": "stream",
     "text": [
      "1 / 3 = 0.33\n"
     ]
    }
   ],
   "source": [
    "def div(a, b):\n",
    "    print(f'{a} / {b} = {round(a / b, 2)}')\n",
    "\n",
    "a, b = int(input()), int(input())\n",
    "div(a, b)"
   ]
  },
  {
   "cell_type": "markdown",
   "id": "5e19557e-685a-4d30-bba8-291401f65f3a",
   "metadata": {
    "id": "owMhp22Jb7Qs"
   },
   "source": [
    "#### Задача 4. \n",
    "\n",
    "Напишите функцию для подсчета букв в слове: пользователь вводит какую-то строку, а функция должна в форматированном виде вывести, сколько раз встретилась та или иная буква, например:\n",
    "\n",
    "    >>> 'ABBYY'\n",
    "    'A': 1\n",
    "    'B': 2\n",
    "    'Y': 2"
   ]
  },
  {
   "cell_type": "code",
   "execution_count": 42,
   "id": "b246a976-ceba-4e83-aa53-c2e1ebcadafd",
   "metadata": {
    "id": "Lnufy8wscBWc"
   },
   "outputs": [
    {
     "name": "stdout",
     "output_type": "stream",
     "text": [
      "'I': 3\n",
      "'L': 3\n",
      "'O': 2\n",
      "'V': 1\n",
      "'E': 2\n",
      "'T': 2\n",
      "'H': 1\n",
      "'S': 1\n",
      "'B': 1\n",
      "'A': 1\n",
      "'U': 2\n",
      "'F': 1\n",
      "'W': 1\n",
      "'R': 1\n",
      "'D': 1\n",
      "')': 6\n"
     ]
    }
   ],
   "source": [
    "def letter_count(s):\n",
    "    unique = ''\n",
    "    for elem in s:\n",
    "        if not elem in unique:\n",
    "            unique += elem\n",
    "    for elem in unique:\n",
    "        print(f\"'{elem}': {s.count(elem)}\")\n",
    "\n",
    "s = input()\n",
    "letter_count(s)"
   ]
  }
 ],
 "metadata": {
  "kernelspec": {
   "display_name": "Python 3",
   "language": "python",
   "name": "python3"
  },
  "language_info": {
   "codemirror_mode": {
    "name": "ipython",
    "version": 3
   },
   "file_extension": ".py",
   "mimetype": "text/x-python",
   "name": "python",
   "nbconvert_exporter": "python",
   "pygments_lexer": "ipython3",
   "version": "3.11.4"
  }
 },
 "nbformat": 4,
 "nbformat_minor": 5
}
