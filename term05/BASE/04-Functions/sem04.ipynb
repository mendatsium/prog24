{
 "cells": [
  {
   "cell_type": "markdown",
   "id": "67210292-72e6-4acd-83cd-2b1346d5f5e5",
   "metadata": {
    "id": "C54uJpgwbRP-"
   },
   "source": [
    "#### Задача 1. \n",
    "\n",
    "Напишите функцию, которая принимает два целых числа a и b и возвращает результат возведения в степень a ** b, только оператором ** пользоваться нельзя, нужно сделать это в цикле!"
   ]
  },
  {
   "cell_type": "code",
   "execution_count": 9,
   "id": "87d1fb54-d6c1-4d3b-a909-7884b7fb916e",
   "metadata": {
    "id": "G2d9tUoEbPjr"
   },
   "outputs": [
    {
     "data": {
      "text/plain": [
       "8"
      ]
     },
     "execution_count": 9,
     "metadata": {},
     "output_type": "execute_result"
    }
   ],
   "source": [
    "def power(a, b):\n",
    "    res = 1\n",
    "    while b > 0:\n",
    "        res *= a\n",
    "        b -= 1\n",
    "    return res\n",
    "\n",
    "a, b = int(input()), int(input())\n",
    "power(a, b)"
   ]
  },
  {
   "cell_type": "code",
   "execution_count": 13,
   "id": "1580555a",
   "metadata": {},
   "outputs": [
    {
     "data": {
      "text/plain": [
       "8"
      ]
     },
     "execution_count": 13,
     "metadata": {},
     "output_type": "execute_result"
    }
   ],
   "source": [
    "def power(a, b):\n",
    "    res = 1\n",
    "    for _ in range(b):\n",
    "        res *= a\n",
    "    return res\n",
    "\n",
    "a, b = int(input()), int(input())\n",
    "power(a, b)"
   ]
  },
  {
   "cell_type": "markdown",
   "id": "d524fcc1-7f0e-4396-ba5d-8d6607e82c5d",
   "metadata": {
    "id": "BQTZHFmPbUks"
   },
   "source": [
    "#### Задача 2. \n",
    "\n",
    "Напишите функцию, которая будет принимать слово и проверять, состоит ли оно только из кириллических букв. Функция должна возвращать объект bool (True/False)."
   ]
  },
  {
   "cell_type": "code",
   "execution_count": null,
   "id": "846c1e78-5cab-4e55-99eb-433548e504ab",
   "metadata": {
    "id": "PewpYgb5bXbt"
   },
   "outputs": [
    {
     "data": {
      "text/plain": [
       "True"
      ]
     },
     "execution_count": 6,
     "metadata": {},
     "output_type": "execute_result"
    }
   ],
   "source": [
    "def is_cyryllic(s):\n",
    "    cyryllic_letters = 'йцукеёнгшщзхъфывапролджэячсмитьбю'\n",
    "    for char in s:\n",
    "        if char not in cyryllic_letters:\n",
    "            return False\n",
    "    return True # если нам ни разу не понадобился if, значит все буквы кириллические\n",
    "\n",
    "s = input().lower()\n",
    "is_cyryllic(s)"
   ]
  },
  {
   "cell_type": "markdown",
   "id": "e0515f62-b35c-4f65-85c6-1d9a42ba160f",
   "metadata": {
    "id": "OBNLT2MIbX1F"
   },
   "source": [
    "#### Задача 3. \n",
    "\n",
    "Немного расширим задачу 2: пользователь вводит строчку, а потом выбирает, хочет ли он проверить, что она является палиндромом или что она кириллическая. В зависимости от выбора пользователя должна вызываться одна из двух функций."
   ]
  },
  {
   "cell_type": "code",
   "execution_count": 17,
   "id": "c0180c9e-d917-46c1-8df2-7a146a5fe9f7",
   "metadata": {
    "id": "OgTX7HcLbai8"
   },
   "outputs": [
    {
     "name": "stdout",
     "output_type": "stream",
     "text": [
      "True\n"
     ]
    }
   ],
   "source": [
    "def pallindrom(s):\n",
    "    return s == s[::-1]\n",
    "\n",
    "user_word = input()\n",
    "user_choise = int(input('1. is_cyryllic 2. pallindrom'))\n",
    "if user_choise == 1:\n",
    "    print(is_cyryllic(user_word))\n",
    "elif user_choise == 2:\n",
    "    print(pallindrom(user_word))\n",
    "else:\n",
    "    print('пупупу')"
   ]
  },
  {
   "cell_type": "markdown",
   "id": "309de2ab-ee4c-4d8f-9af9-c9deb9528f22",
   "metadata": {
    "id": "j7SgbFR_bdJs"
   },
   "source": [
    "#### Задача 4. \n",
    "\n",
    "Напишите функцию sign, которая принимает целое число и возвращает True, если оно положительное, и False, если оно отрицательное. На 0 можно возвращать объект класса NoneType (None)."
   ]
  },
  {
   "cell_type": "code",
   "execution_count": null,
   "id": "06321dcf-4524-4630-8605-ffe259624e65",
   "metadata": {
    "id": "GmAjUPTVbf88"
   },
   "outputs": [],
   "source": [
    "def sign(num):\n",
    "    if num > 0:\n",
    "        return True\n",
    "    elif num < 0:\n",
    "        return False\n",
    "    return\n",
    "\n",
    "num = int(input())\n",
    "print(sign(num))"
   ]
  },
  {
   "cell_type": "code",
   "execution_count": 18,
   "id": "d40db7b8",
   "metadata": {},
   "outputs": [
    {
     "name": "stdout",
     "output_type": "stream",
     "text": [
      "None\n"
     ]
    }
   ],
   "source": [
    "def sign(num):\n",
    "    if num != 0:   \n",
    "        return num > 0 # возвращает bool\n",
    "\n",
    "num = int(input())\n",
    "print(sign(num))"
   ]
  },
  {
   "cell_type": "markdown",
   "id": "9fd772ad-e997-4b90-b976-08f76fca58a8",
   "metadata": {},
   "source": [
    "#### Задача 5. \n",
    "\n",
    "Напишите функцию, которая принимает какое-то число градусов и переводит это число из фаренгейт в цельсий или обратно, в зависимости от того, что указал пользователь. По умолчанию должно переводиться в фаренгейт из цельсия. "
   ]
  },
  {
   "cell_type": "code",
   "execution_count": 21,
   "id": "37879052-7a9b-4004-b8d3-7e18fa6cafdd",
   "metadata": {
    "id": "GmAjUPTVbf88"
   },
   "outputs": [
    {
     "data": {
      "text/plain": [
       "5.56"
      ]
     },
     "execution_count": 21,
     "metadata": {},
     "output_type": "execute_result"
    }
   ],
   "source": [
    "def temp_convert(num, degree='farengeit'):\n",
    "    if degree == 'farengeit':   # цельсий --> фаренгейт\n",
    "        num = (num * 1.8) + 32\n",
    "    else:                       # фаренгейт --> цельсий\n",
    "        num = (num - 32) / 1.8\n",
    "    return round(num, 2)\n",
    "\n",
    "temp_convert(42, degree='celsius') # вызов превратит 42 по фаренгейту в 5.5 по цельсию."
   ]
  },
  {
   "cell_type": "markdown",
   "id": "67e644fb-5313-4141-89ab-1ad1cd61b6f2",
   "metadata": {},
   "source": [
    "#### Задача 6. \n",
    "\n",
    "Напишите функцию, которая будет определять, является ли введенная строчка палиндромом или нет, но рекурсивно. "
   ]
  },
  {
   "cell_type": "code",
   "execution_count": 24,
   "id": "67f8d9fd-5e19-438e-82d3-9595c66b9028",
   "metadata": {
    "id": "GmAjUPTVbf88"
   },
   "outputs": [
    {
     "name": "stdout",
     "output_type": "stream",
     "text": [
      "False\n"
     ]
    }
   ],
   "source": [
    "def pallindrom(s):\n",
    "    if len(s) <= 1:\n",
    "        return True\n",
    "    if s[0] != s[-1]:\n",
    "        return False\n",
    "    return pallindrom(s[1:-1])\n",
    "\n",
    "s = input()\n",
    "print(pallindrom(s))"
   ]
  },
  {
   "cell_type": "markdown",
   "id": "e81cf9fc-ab39-45d5-b228-0111c61c0d05",
   "metadata": {},
   "source": [
    "#### Задача 7.\n",
    "\n",
    "Напишите функцию, которая будет принимать число n и проверять, является ли это число степенью двойки (н-р, 1024 является, а 23 - нет). На дополнительный балл: подумайте, нельзя ли эту задачу решить рекурсивно. "
   ]
  },
  {
   "cell_type": "code",
   "execution_count": 27,
   "id": "f94d0072-acfd-42a1-b2c1-58840ffdc853",
   "metadata": {
    "id": "GmAjUPTVbf88"
   },
   "outputs": [
    {
     "name": "stdout",
     "output_type": "stream",
     "text": [
      "False\n"
     ]
    }
   ],
   "source": [
    "def step2(num):\n",
    "    if num == 2 or num == 1:\n",
    "        return True\n",
    "    if num % 2:\n",
    "        return False\n",
    "    return step2(num / 2)\n",
    "\n",
    "num = int(input())\n",
    "print(step2(num))"
   ]
  },
  {
   "cell_type": "markdown",
   "id": "bcfd9ccf-fad2-4a7b-8c7e-fd5a3d01f900",
   "metadata": {},
   "source": [
    "#### Задача 8. \n",
    "\n",
    "Напишите функцию, которая принимает два числа k и b и возвращает другую функцию, которая вычисляет результат уравнения k * x + b (х - ее аргумент). "
   ]
  },
  {
   "cell_type": "code",
   "execution_count": 34,
   "id": "c56970e9-e5c0-410f-bc62-75353d6ec57d",
   "metadata": {
    "id": "GmAjUPTVbf88"
   },
   "outputs": [
    {
     "name": "stdout",
     "output_type": "stream",
     "text": [
      "5\n"
     ]
    }
   ],
   "source": [
    "def func1(k, b):\n",
    "    def func2(x):\n",
    "        return k * x + b\n",
    "    return func2\n",
    "\n",
    "k, b, x = int(input()), int(input()), int(input())    \n",
    "func_gen = func1(k, b)\n",
    "print(func_gen(x))"
   ]
  },
  {
   "cell_type": "code",
   "execution_count": 36,
   "id": "a1be5620",
   "metadata": {},
   "outputs": [
    {
     "name": "stdout",
     "output_type": "stream",
     "text": [
      "5\n"
     ]
    }
   ],
   "source": [
    "def func1(k, b):\n",
    "    return lambda x: k * x + b\n",
    "\n",
    "k, b, x = int(input()), int(input()), int(input())    \n",
    "func_gen = func1(k, b)\n",
    "print(func_gen(x))"
   ]
  }
 ],
 "metadata": {
  "kernelspec": {
   "display_name": "Python 3",
   "language": "python",
   "name": "python3"
  },
  "language_info": {
   "codemirror_mode": {
    "name": "ipython",
    "version": 3
   },
   "file_extension": ".py",
   "mimetype": "text/x-python",
   "name": "python",
   "nbconvert_exporter": "python",
   "pygments_lexer": "ipython3",
   "version": "3.11.4"
  }
 },
 "nbformat": 4,
 "nbformat_minor": 5
}
