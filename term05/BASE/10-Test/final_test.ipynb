{
 "cells": [
  {
   "cell_type": "markdown",
   "id": "65b5b815-3769-4001-8b0a-24df745156c5",
   "metadata": {},
   "source": [
    "#### Задача 1. \n",
    "\n",
    "Шахматный конь ходит буквой “Г” — на две клетки по вертикали в любом направлении и на одну клетку по горизонтали, или наоборот. Даны две различные клетки шахматной доски, определите, может ли конь попасть с первой клетки на вторую одним ходом. \n",
    "\n",
    "Дополнительное условие: выполните проверку в один шаг с помощью арифметических операций. "
   ]
  },
  {
   "cell_type": "code",
   "execution_count": 2,
   "id": "da08c161-376e-481c-8f29-6a3f65225167",
   "metadata": {},
   "outputs": [
    {
     "name": "stdout",
     "output_type": "stream",
     "text": [
      "Конь может попасть с первой клетки на вторую одним ходом.\n"
     ]
    }
   ],
   "source": [
    "cell_1, cell_2 = input(), input()\n",
    "if (abs(ord(cell_1[0]) - ord(cell_2[0])) == 2 and abs(int(cell_1[1]) - int(cell_2[1])) == 1 or \n",
    "    abs(ord(cell_1[0]) - ord(cell_2[0])) == 1 and abs(int(cell_1[1]) - int(cell_2[1])) == 2):\n",
    "    print('Конь может попасть с первой клетки на вторую одним ходом.')\n",
    "else:\n",
    "    print('Конь не может попасть с первой клетки на вторую одним ходом.')"
   ]
  },
  {
   "cell_type": "markdown",
   "id": "b3070bc8-7112-4d8d-b41c-9c3669bedc8e",
   "metadata": {},
   "source": [
    "#### Задача 2.\n",
    "\n",
    "У некоторых целых чисел есть забавные свойства, например::\n",
    "\n",
    "    89 --> 8¹ + 9² = 89 * 1\n",
    "    695 --> 6² + 9³ + 5⁴= 1390 = 695 * 2\n",
    "    46288 --> 4³ + 6⁴+ 2⁵ + 8⁶ + 8⁷ = 2360688 = 46288 * 51\n",
    "\n",
    "Нужно написать функцию, которая будет проверять, есть ли у натурального числа n такие свойства, а именно если цифры этого числа возвести в степени p, p + 1, p + 2..., то в результате будет число, которое делится на исходное число нацело.\n",
    "\n",
    "Функция получает в качестве аргументов два числа: n (само число на проверку) и p - натуральное число, с которого мы начинаем возводить цифры нашего числа в степень. Функция должна вернуть -1, если наше число n таким свойством не обладает, и k, если да. \n",
    "\n",
    "    dig_pow(89, 1) должно вернуть 1, потому что 8¹ + 9² = 89 = 89 * 1\n",
    "    dig_pow(92, 1) должно вернуть -1 потому что нет такого k, чтобы 9¹ + 2² равнялось 92 * k\n",
    "    dig_pow(695, 2) должно вернуть 2, потому что 6² + 9³ + 5⁴= 1390 = 695 * 2\n",
    "    dig_pow(46288, 3) должно вернуть 51, потому что 4³ + 6⁴+ 2⁵ + 8⁶ + 8⁷ = 2360688 = 46288 * 51"
   ]
  },
  {
   "cell_type": "code",
   "execution_count": 9,
   "id": "fa1f9590-41c1-4d1e-9132-90b308898a1e",
   "metadata": {},
   "outputs": [],
   "source": [
    "def dig_pow(n, p):\n",
    "    sum = 0\n",
    "    for i in range(len(str(n))):\n",
    "        sum += int(str(n)[i]) ** (p + i)\n",
    "    if sum % n == 0:\n",
    "        return sum / n\n",
    "    else:\n",
    "        return -1\n",
    "    \n",
    "assert all([dig_pow(89, 1) == 1, dig_pow(92, 1) == -1, dig_pow(695, 2) == 2, dig_pow(46288, 3) == 51])"
   ]
  },
  {
   "cell_type": "markdown",
   "id": "14cf45c9-35b1-458c-9d39-527d7bde55e8",
   "metadata": {},
   "source": [
    "#### Задача 3.\n",
    "\n",
    "Mean Squared Error (MSE, квадратичная ошибка) - формула для оценки правильности работы алгоритмов машинного обучения. Для чего она нужна? Допустим, у нас есть правильные ответы для нашей задачи. Компьютер учится решать задачу и дает собственные ответы, которые могут быть правильными, а могут быть  нет. Если обозначить наши правильные ответы как y_true, а ответы компьютера как y_pred, то MSE вычисляется как сумма квадратов разностей y_true и y_pred, поделенная на количество всех ответов: \n",
    "\n",
    "$$MSE = \\frac{\\sum_{n=1}^{N} (y\\_true - y\\_pred)^2}{N}$$\n",
    "\n",
    "Напишите функцию, которая будет вычислять MSE. "
   ]
  },
  {
   "cell_type": "code",
   "execution_count": 10,
   "id": "2e72fcc5-3261-45ab-b771-ca2a02329392",
   "metadata": {},
   "outputs": [],
   "source": [
    "def mse(y_true, y_pred):\n",
    "    sum = 0\n",
    "    for i in range(len(y_true)):\n",
    "        sum += (y_true[i] - y_pred[i]) ** 2\n",
    "    return sum / len(y_true) \n",
    "    \n",
    "assert all([mse([1, 2, 3], [4, 5, 6]) == 9.0, mse([10, 20, 10, 2], [10, 25, 5, -2]) == 16.5, mse([-1, 0], [0, -1]) == 1])"
   ]
  },
  {
   "cell_type": "markdown",
   "id": "8b6f311f-b9c2-49e8-ad01-e353251605b9",
   "metadata": {},
   "source": [
    "#### Задача 4. \n",
    "\n",
    "Вводится две строки. Посчитайте, сколько процентов от длины первой строки составляет длина второй строки. "
   ]
  },
  {
   "cell_type": "code",
   "execution_count": 12,
   "id": "bf573c0e-7c2f-451a-a600-58524fed5bec",
   "metadata": {},
   "outputs": [
    {
     "name": "stdout",
     "output_type": "stream",
     "text": [
      "123456 123 50.0\n"
     ]
    }
   ],
   "source": [
    "def percent(s1, s2):\n",
    "    return len(s2) / len(s1) * 100\n",
    "\n",
    "s1, s2 = input(), input()\n",
    "print(s1, s2, percent(s1, s2))"
   ]
  },
  {
   "cell_type": "markdown",
   "id": "2628409a-4f90-44eb-a369-8ece1ae34cfd",
   "metadata": {},
   "source": [
    "#### Задача 5. \n",
    "\n",
    "Дано N слов: сначала вводится число N, затем вводится ровно N слов английского языка (без пробелов, но могут быть с большой буквы). Подсчитайте количество артиклей \"the\" среди введенных слов и выведите это количество."
   ]
  },
  {
   "cell_type": "code",
   "execution_count": 13,
   "id": "603be7f1-6439-4410-96ff-0febe69bd57f",
   "metadata": {},
   "outputs": [
    {
     "data": {
      "text/plain": [
       "3"
      ]
     },
     "execution_count": 13,
     "metadata": {},
     "output_type": "execute_result"
    }
   ],
   "source": [
    "def the_counter(n):  \n",
    "    count = 0\n",
    "    for i in range(n):\n",
    "        if input().lower() == 'the':\n",
    "            count += 1\n",
    "    return count\n",
    "\n",
    "n = int(input())\n",
    "the_counter(n)"
   ]
  },
  {
   "cell_type": "markdown",
   "id": "7edf7ab9-486b-42ff-9e1d-a8708f43f9b9",
   "metadata": {},
   "source": [
    "#### Задача 6 (2 балла).\n",
    "\n",
    "Поиграемся и напишем несколько функций таких, чтобы можно было выполнять арифметические вычисления в виде функций. Они должны выглядеть, например, так:\n",
    "\n",
    "    seven(times(five())) # must return 35\n",
    "    four(plus(nine())) # must return 13\n",
    "    eight(minus(three())) # must return 5\n",
    "    six(divided_by(two())) # must return 3\n",
    "    \n",
    "Условия:\n",
    "\n",
    "- должна быть функция для каждого числа от 0 до 9\n",
    "- должна быть функция для каждого из арифметических операторов: +, -, *, //\n",
    "- каждое вычисление состоит из одной операции и двух чисел\n",
    "- внешняя функция представляет собой левый операнд, а самая вложенная - правый операнд\n",
    "- деление у нас только целочисленное и возвращает int. \n",
    "\n",
    "Подсказка:\n",
    "\n",
    "Наверное, функция для операции должна возвращать какую-то другую функцию с дополнением, а функция для числа должна возвращать либо число, либо вызывать функцию (в зависимости от того, какого типа аргумент она получила). Также пригодятся дефолтные параметры функций (это которые zero(arg=0)). "
   ]
  },
  {
   "cell_type": "code",
   "execution_count": 14,
   "id": "ba967315-27b9-46f2-be23-2318898b336c",
   "metadata": {},
   "outputs": [],
   "source": [
    "# снимаю шляпу перед автором задачи. это прекрасно, у меня нет слов\n",
    "\n",
    "def zero(func=None): \n",
    "    if func is None:\n",
    "        return 0\n",
    "    else:\n",
    "        return func(0)\n",
    "def one(func=None): \n",
    "    if func is None:\n",
    "        return 1\n",
    "    else:\n",
    "        return func(1)\n",
    "def two(func=None): \n",
    "    if func is None:\n",
    "        return 2\n",
    "    else:\n",
    "        return func(2)\n",
    "def three(func=None): \n",
    "    if func is None:\n",
    "        return 3\n",
    "    else:\n",
    "        return func(3)\n",
    "def four(func=None): \n",
    "    if func is None:\n",
    "        return 4\n",
    "    else:\n",
    "        return func(4)\n",
    "def five(func=None): \n",
    "    if func is None:\n",
    "        return 5\n",
    "    else:\n",
    "        return func(5)\n",
    "def six(func=None): \n",
    "    if func is None:\n",
    "        return 6\n",
    "    else:\n",
    "        return func(6)\n",
    "def seven(func=None): \n",
    "    if func is None:\n",
    "        return 7\n",
    "    else:\n",
    "        return func(7)\n",
    "def eight(func=None): \n",
    "    if func is None:\n",
    "        return 8\n",
    "    else:\n",
    "        return func(8)\n",
    "def nine(func=None): \n",
    "    if func is None:\n",
    "        return 9\n",
    "    else:\n",
    "        return func(9)\n",
    "\n",
    "def plus(num): return lambda x: x + num\n",
    "def minus(num): return lambda x: x - num\n",
    "def times(num): return lambda x: x * num\n",
    "def divided_by(num): return lambda x: x // num\n",
    "\n",
    "assert all ([seven(times(five())) == 35, four(plus(nine())) == 13, eight(minus(three())) == 5, six(divided_by(two())) == 3])"
   ]
  },
  {
   "cell_type": "code",
   "execution_count": null,
   "id": "a28476c7",
   "metadata": {},
   "outputs": [],
   "source": [
    "# это какое-то колдунство. я не верю что это действительно работает это какой-то бред\n",
    "\n",
    "def zero(func=None): return func(0) if func else 0\n",
    "def one(func=None): return func(1) if func else 1\n",
    "def two(func=None): return func(2) if func else 2\n",
    "def three(func=None): return func(3) if func else 3\n",
    "def four(func=None): return func(4) if func else 4\n",
    "def five(func=None): return func(5) if func else 5\n",
    "def six(func=None): return func(6) if func else 6\n",
    "def seven(func=None): return func(7) if func else 7\n",
    "def eight(func=None): return func(8) if func else 8\n",
    "def nine(func=None): return func(9) if func else 9\n",
    "\n",
    "\n",
    "def plus(num): return lambda x: x + num\n",
    "def minus(num): return lambda x: x - num\n",
    "def times(num): return lambda x: x * num\n",
    "def divided_by(num): return lambda x: x // num\n",
    "\n",
    "assert all ([seven(times(five())) == 35, four(plus(nine())) == 13, eight(minus(three())) == 5, six(divided_by(two())) == 3])"
   ]
  },
  {
   "cell_type": "markdown",
   "id": "6f173430-492b-466d-8e8b-e5aa971d1461",
   "metadata": {},
   "source": [
    "#### Задача 7. \n",
    "\n",
    "Вводится список. Если список упорядочен по возрастанию, выведите \"по возрастанию\", если по убыванию - то \"по убыванию\", а если не упорядочен - то \"не упорядочен\". "
   ]
  },
  {
   "cell_type": "code",
   "execution_count": 126,
   "id": "29d3ee18-6fcd-4c9d-98cd-0e0246e337a2",
   "metadata": {},
   "outputs": [
    {
     "name": "stdout",
     "output_type": "stream",
     "text": [
      "['3', '2', '1'] по убыванию\n"
     ]
    }
   ],
   "source": [
    "def checker(lst):\n",
    "    if lst == sorted(lst):\n",
    "        return 'по возрастанию'\n",
    "    elif lst == sorted(lst, reverse=True):\n",
    "        return 'по убыванию'\n",
    "    else:\n",
    "        return 'не упорядочен'\n",
    "\n",
    "lst = input().split()\n",
    "print(lst, checker(lst))"
   ]
  },
  {
   "cell_type": "markdown",
   "id": "536950dd-4aeb-46e5-aa45-34dc7e773cf1",
   "metadata": {},
   "source": [
    "#### Задача 8.\n",
    "\n",
    "Даны два списка чисел. Найдите все числа, которые входят как в первый, так и во второй список, и выведите их в порядке возрастания."
   ]
  },
  {
   "cell_type": "code",
   "execution_count": 117,
   "id": "193b741c-39bd-404c-bb43-640a123b9c3d",
   "metadata": {},
   "outputs": [
    {
     "name": "stdout",
     "output_type": "stream",
     "text": [
      "['3', '4', '5']\n"
     ]
    }
   ],
   "source": [
    "print(sorted(list(set(input().split()) & set(input().split()))))"
   ]
  },
  {
   "cell_type": "markdown",
   "id": "29983e3e-4db7-4bea-8c0e-108d90c311be",
   "metadata": {},
   "source": [
    "#### Задача 9 (2 балла). \n",
    "\n",
    "Гадалка. Пользователь вводит общий вопрос на русском языке (на который можно ответить да/нет). Программа, конечно, может гадать рандомом, но интереснее хоть как-то привязать ответ к самому вопросу; давайте это сделаем при помощи количества букв в словах. Таким образом, в первую строчку записываем числа: \n",
    "\n",
    "    <количество слов в вопросе> <длина 1 слова> <длина 2 слова> ... \n",
    "    \n",
    "После чего складываем числа по парам: первое со вторым, второе с третьим и так далее, чтобы получилась строчка на 1 элемент короче. Если результат сложения >= 10, вычитаем столько девяток, чтобы получилось однозначное число (9 годится, 10 - нет). Таким же образом обрабатываем вторую получившуюся строку и делаем так, пока не останется одно-единственное число. Если оно четное, ответ \"да\", если нечетное - ответ \"нет\". Таким образом, ответ на \"получу ли я зачет по программированию\" должен быть \"да\". Считаем, что знаков препинания в вопросе нет (или можно использовать свою функцию токенизации из задачи 9). "
   ]
  },
  {
   "cell_type": "code",
   "execution_count": 24,
   "id": "11dda1d5-8b07-45bf-a7e8-949bdb00d670",
   "metadata": {},
   "outputs": [
    {
     "name": "stdout",
     "output_type": "stream",
     "text": [
      "вопрос: получу ли я зачет по программированию? \n",
      "ответ: да\n"
     ]
    }
   ],
   "source": [
    "# ...нет слов\n",
    "\n",
    "def soothsayer(question: str):\n",
    "    question_l = question.split()\n",
    "    l = [len(question_l)]\n",
    "    for i in question_l:\n",
    "        l.append(len(i))\n",
    "    def help(l):\n",
    "        if len(l) == 1:\n",
    "            return 'нет' if l[0] % 2 else 'да'\n",
    "        new_l = []\n",
    "        for i in range(len(l) - 1):\n",
    "            new_l.append(l[i] + l[i + 1])\n",
    "        for i in range(len(new_l)):\n",
    "            # if new_l[i] % 9 == 0:\n",
    "            #     new_l[i] = 9\n",
    "            # else:\n",
    "            #     new_l[i] = new_l[i] % 9\n",
    "            new_l[i] = (new_l[i] - 1) % 9 + 1\n",
    "        return help(new_l)\n",
    "    return help(l)\n",
    "\n",
    "question = input()\n",
    "print(f'вопрос: {question}? \\nответ: {soothsayer(question)}')"
   ]
  },
  {
   "cell_type": "markdown",
   "id": "d7dc8211-4d91-49c3-bd53-b6bdcd9fa834",
   "metadata": {},
   "source": [
    "#### Задача 10 (2 балла). \n",
    "\n",
    "Дано натуральное число n. Выведите в порядке возрастания все четырёхзначные числа, сумма цифр которых равна n. "
   ]
  },
  {
   "cell_type": "code",
   "execution_count": 127,
   "id": "086eb01d-dd8e-4266-ad0f-e2e6ef185a1a",
   "metadata": {
    "tags": []
   },
   "outputs": [
    {
     "name": "stdout",
     "output_type": "stream",
     "text": [
      "Вот все четырёхзначные числа, сумма цифр которых равна 3:\n",
      "1002\n",
      "1011\n",
      "1020\n",
      "1101\n",
      "1110\n",
      "1200\n",
      "2001\n",
      "2010\n",
      "2100\n",
      "3000\n"
     ]
    }
   ],
   "source": [
    "n = int(input())\n",
    "print(f'Вот все четырёхзначные числа, сумма цифр которых равна {n}:')\n",
    "for i in range(1000, 10000):\n",
    "    # if int(str(i)[0]) + int(str(i)[1]) + int(str(i)[2]) + int(str(i)[3]) == n:\n",
    "    if sum([int(j) for j in str(i)]) == n:\n",
    "        print(i)"
   ]
  },
  {
   "cell_type": "markdown",
   "id": "f11b40a1-fc00-46b3-b027-a2cd0be0fcf4",
   "metadata": {},
   "source": [
    "#### Задача 11.\n",
    "\n",
    "Вводится строка из слов русского языка (могут быть простые символы пунктуации). Посчитайте среднее количество слогов для этих слов. "
   ]
  },
  {
   "cell_type": "code",
   "execution_count": 38,
   "id": "4cf0b895-ea08-4460-be53-5985aa296370",
   "metadata": {
    "tags": []
   },
   "outputs": [
    {
     "name": "stdout",
     "output_type": "stream",
     "text": [
      "Среднее количество слогов в строке: \"мама мыла раму\" = 2.0\n"
     ]
    }
   ],
   "source": [
    "s = input()\n",
    "vowels = 'уеыаоэяию'\n",
    "avg = sum([s.count(vowels[i]) for i in range(len(vowels))]) / len(s.split())\n",
    "print(f'Среднее количество слогов в строке: \"{s}\" = {avg}')"
   ]
  },
  {
   "cell_type": "markdown",
   "id": "743939f9-2e44-49bc-87bd-120144951572",
   "metadata": {},
   "source": [
    "#### Задача 12 (2 балла). \n",
    "\n",
    "Дан список целых чисел и целевое число (тоже целое). Функция должна возвращать два индекса чисел из списка, которые в сумме дают целевое число. "
   ]
  },
  {
   "cell_type": "code",
   "execution_count": 48,
   "id": "1ba939a3-0914-4d49-adf2-c86dfb6baeab",
   "metadata": {},
   "outputs": [],
   "source": [
    "# типа перебираем не как таблицу умножения, а по умному, только уникальные сочетания\n",
    "\n",
    "def twoSum(nums, target):\n",
    "    for i in range(len(nums) - 1):\n",
    "        for j in range(i + 1, len(nums)):\n",
    "            if nums[i] + nums[j] == target:\n",
    "                return [i, j]\n",
    "\n",
    "assert twoSum(nums = [2, 7, 11, 15], target = 9) == [0, 1]"
   ]
  },
  {
   "cell_type": "markdown",
   "id": "f9b5c6bc-b6d9-4c24-8368-79a26ce12488",
   "metadata": {},
   "source": [
    "#### Задача 13 (2 балла). \n",
    "\n",
    "Дается большое целое число, представленное как список из его цифр (например, [5, 4, 3, 2, 1] = 54321). Функция должна увеличить это число на один и вернуть его таким же списком. "
   ]
  },
  {
   "cell_type": "code",
   "execution_count": 85,
   "id": "173f8be1-cc83-4d16-9cb2-c9da3f332928",
   "metadata": {},
   "outputs": [],
   "source": [
    "def plusOne(digits=list):\n",
    "    new_digit = int(''.join([str(i) for i in digits])) + 1\n",
    "    return [int(i) for i in str(new_digit)]\n",
    "\n",
    "assert plusOne([4, 3, 2, 1]) == [4, 3, 2, 2]\n",
    "assert plusOne([9]) == [1, 0]"
   ]
  },
  {
   "cell_type": "markdown",
   "id": "35d2f1cb-c5c6-4e71-8a67-d70c37f1e6ad",
   "metadata": {
    "tags": []
   },
   "source": [
    "#### Задача 14 (2 балла).\n",
    "\n",
    "Напишите функцию, которая будет принимать целое неотрицательное число и возвращать True, если это число является степенью двойки. Например, 1024 - True, 345 - False."
   ]
  },
  {
   "cell_type": "code",
   "execution_count": 103,
   "id": "45a87827-fab2-45c0-9e53-cb07aae48397",
   "metadata": {},
   "outputs": [],
   "source": [
    "from math import log2\n",
    "\n",
    "def ispoweroftwo(num):\n",
    "    if 2 ** int(log2(num)) == num:\n",
    "        return True\n",
    "    else:\n",
    "        return False\n",
    "    \n",
    "assert ispoweroftwo(1024) and ispoweroftwo(512)"
   ]
  }
 ],
 "metadata": {
  "kernelspec": {
   "display_name": "Python 3",
   "language": "python",
   "name": "python3"
  },
  "language_info": {
   "codemirror_mode": {
    "name": "ipython",
    "version": 3
   },
   "file_extension": ".py",
   "mimetype": "text/x-python",
   "name": "python",
   "nbconvert_exporter": "python",
   "pygments_lexer": "ipython3",
   "version": "3.11.4"
  }
 },
 "nbformat": 4,
 "nbformat_minor": 5
}
