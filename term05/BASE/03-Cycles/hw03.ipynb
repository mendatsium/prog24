{
 "cells": [
  {
   "cell_type": "markdown",
   "id": "841be60e-9845-421c-be6a-4aacf5858d22",
   "metadata": {
    "id": "_1tOdiaqqX04"
   },
   "source": [
    "#### Задача 1. \n",
    "\n",
    "Пользователь вводит какие-то числа; программа должна выводить в ответ, четное число или нечетное, пока не будет введен 0."
   ]
  },
  {
   "cell_type": "code",
   "execution_count": 4,
   "id": "9b4ee061-946b-49e4-b89c-a0eee3a513be",
   "metadata": {
    "id": "Rvr_eEqjqrkx"
   },
   "outputs": [
    {
     "name": "stdout",
     "output_type": "stream",
     "text": [
      "Введенное число четное\n",
      "Введенное число нечетное\n",
      "Введенное число четное\n",
      "Введенное число нечетное\n"
     ]
    }
   ],
   "source": [
    "num = int(input())\n",
    "\n",
    "while num != 0:\n",
    "    if num % 2: # True, что остаток от деления, True == 1, т.е. нечетное число\n",
    "        print('Введенное число нечетное')\n",
    "        num = int(input())\n",
    "    else:\n",
    "        print('Введенное число четное')\n",
    "        num = int(input())"
   ]
  },
  {
   "cell_type": "markdown",
   "id": "f843e848-f6d1-44b3-abd3-e3c94712ad79",
   "metadata": {
    "id": "JwPe3Dmvqrth"
   },
   "source": [
    "#### Задача 2. \n",
    "\n",
    "Сперва пользователь вводит число n, а потом вводит n чисел. Нужно посчитать среднее арифметическое."
   ]
  },
  {
   "cell_type": "code",
   "execution_count": 2,
   "id": "f2d246b1-17a0-4fff-9322-02b767c32bc6",
   "metadata": {
    "id": "tSB_rTPfq3Wp"
   },
   "outputs": [
    {
     "name": "stdout",
     "output_type": "stream",
     "text": [
      "2.0\n"
     ]
    }
   ],
   "source": [
    "num = int(input())\n",
    "res = 0\n",
    "for i in range(num):   # повторим цикл столько раз, сколько ввел user (первое число)\n",
    "    user_num = int(input()) # считываем число \n",
    "    res += user_num # добавим введенное число в счетчик\n",
    "print(round(res / num, 2)) # напечатаем округленное ср.арифм."
   ]
  },
  {
   "cell_type": "markdown",
   "id": "f24a0fe9-ee3c-4d0e-a0c7-3d246ee1ade7",
   "metadata": {
    "id": "8-VHAaezq3mg"
   },
   "source": [
    "#### Задача 3. \n",
    "\n",
    "Дано натуральное число n. Напечатайте все n-значные нечетные натуральные числа в порядке убывания. Условными конструкциями пользоваться запрещено.\n",
    "\n",
    "То есть, для введенного 2 должно начинаться как:\n",
    "\n",
    "    99\n",
    "    97\n",
    "    95\n",
    "    93\n",
    "    91\n",
    "    ..."
   ]
  },
  {
   "cell_type": "code",
   "execution_count": null,
   "id": "91eb0be3-f330-4756-817a-1800ca52d5bf",
   "metadata": {
    "id": "FA2wf7xJq-GR"
   },
   "outputs": [],
   "source": []
  },
  {
   "cell_type": "markdown",
   "id": "14a54f0a-0600-4024-b37b-e174c2c0c27d",
   "metadata": {
    "id": "J6mR5A8urRDQ"
   },
   "source": [
    "#### Задача 4. \n",
    "\n",
    "По данному натуральному n ≤ 9 выведите лесенку из n ступенек, i-я ступенька состоит из чисел от 1 до i без пробелов. То есть, должно быть что-то такое:\n",
    "\n",
    "    1\n",
    "    12\n",
    "    123\n",
    "    1234"
   ]
  },
  {
   "cell_type": "code",
   "execution_count": 13,
   "id": "eea26fe1-a85c-48b8-9a80-f2d1ab182f58",
   "metadata": {
    "id": "cDCzajvgrVBh"
   },
   "outputs": [
    {
     "name": "stdout",
     "output_type": "stream",
     "text": [
      "Введите цифры от 1 до 9\n",
      "Введите цифры от 1 до 9\n",
      "Введите цифры от 1 до 9\n",
      "1\n",
      "12\n",
      "123\n",
      "1234\n",
      "12345\n",
      "123456\n",
      "1234567\n",
      "12345678\n",
      "123456789\n"
     ]
    }
   ],
   "source": [
    "n = int(input())\n",
    "while True:\n",
    "    if n <= 9:\n",
    "        for i in range(1, n + 1): # тут мы меняем i от 1 до n\n",
    "            for j in range(1, i + 1):\n",
    "                print(j, end='') # тут мы печатаем цифры от 1 до i\n",
    "            print() # тут переходим на новую строку\n",
    "        break\n",
    "    else:\n",
    "        print('Введите цифры от 1 до 9')\n",
    "        n = int(input())"
   ]
  },
  {
   "cell_type": "markdown",
   "id": "69f4780b-d5f4-478b-ada4-02ad98b20156",
   "metadata": {
    "id": "WRuR7thtrVVA"
   },
   "source": [
    "#### Задача 5. \n",
    "\n",
    "Пользователь вводит целые (не обязательно положительные) числа (одно за другим, пока не введет слово вместо числа). Программа должна вывести самое большое введенное число. Списками пользоваться нельзя."
   ]
  },
  {
   "cell_type": "code",
   "execution_count": 34,
   "id": "84708216-b8a8-44ab-87ff-f3b8a8d08e96",
   "metadata": {
    "id": "5PFWjAunrdw5"
   },
   "outputs": [
    {
     "name": "stdout",
     "output_type": "stream",
     "text": [
      "-2\n"
     ]
    }
   ],
   "source": [
    "num = input()\n",
    "res = int(num) # потому что user может вводить только отриц.числа (=> 0 не прокатит)\n",
    "while not str(num).isalpha(): # пока user вводит числа:\n",
    "    if int(num) >= res:\n",
    "        res = int(num)\n",
    "    num = input()\n",
    "else:\n",
    "    print(res)\n",
    "\n",
    "# в идеале надо рассмотреть вариант, что user сразу ввел строку, потому что сейчас он вывалит ошибку\n",
    "# но тогда еще страшнее всё выглядеть будет, так что я не буду этого делать"
   ]
  }
 ],
 "metadata": {
  "kernelspec": {
   "display_name": "Python 3",
   "language": "python",
   "name": "python3"
  },
  "language_info": {
   "codemirror_mode": {
    "name": "ipython",
    "version": 3
   },
   "file_extension": ".py",
   "mimetype": "text/x-python",
   "name": "python",
   "nbconvert_exporter": "python",
   "pygments_lexer": "ipython3",
   "version": "3.11.4"
  }
 },
 "nbformat": 4,
 "nbformat_minor": 5
}
