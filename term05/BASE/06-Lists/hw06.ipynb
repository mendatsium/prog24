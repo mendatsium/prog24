{
 "cells": [
  {
   "cell_type": "markdown",
   "id": "e1ee0103-8200-46e7-8368-3f810345ce0b",
   "metadata": {
    "id": "8Cp2cJyqyFwN"
   },
   "source": [
    "#### Задача 1. \n",
    "\n",
    "Дан список. Выведите те его элементы, которые встречаются в списке только два раза. Элементы нужно выводить в том порядке, в котором их первые вхождения встречаются в списке, например:\n",
    "\n",
    "    1 1 2 3 2 3 => 1 2 3"
   ]
  },
  {
   "cell_type": "code",
   "execution_count": null,
   "id": "91ded2e2-3a86-4434-b6f9-2b087cd12bf4",
   "metadata": {
    "id": "atX5rZWryKnF"
   },
   "outputs": [
    {
     "name": "stdout",
     "output_type": "stream",
     "text": [
      "1 2 3\n"
     ]
    }
   ],
   "source": [
    "l = input().split()\n",
    "new = []\n",
    "\n",
    "for elem in l:\n",
    "    if l.count(elem) == 2 and elem not in new:\n",
    "        new.append(elem)\n",
    "\n",
    "print(*new) # распаковка списка "
   ]
  },
  {
   "cell_type": "code",
   "execution_count": null,
   "id": "372413ab",
   "metadata": {},
   "outputs": [
    {
     "name": "stdout",
     "output_type": "stream",
     "text": [
      "1 1 2 3 2 3\n"
     ]
    }
   ],
   "source": [
    "l = input().split()\n",
    "res = [i for i in l if l.count(i) == 2 and i not in res]\n",
    "print(*res)\n",
    "\n",
    "# че-то ничего не получилось. не поняла почему"
   ]
  },
  {
   "cell_type": "markdown",
   "id": "1d0d7d13-df9a-4070-9154-02585efa6bf1",
   "metadata": {
    "id": "OMWL7WhGyOPU"
   },
   "source": [
    "#### Задача 2. \n",
    "\n",
    "Дан список слов, в некоторых словах есть буква ё. Нужно отсортировать список так, чтобы буква ё сортировалась по алфавиту. \n",
    "\n",
    "Подсказка: можно либо воспользоваться номерами юникода и сортировкой списков из чисел, либо заменять все буквы, которые идут после е, на что-нибудь еще. "
   ]
  },
  {
   "cell_type": "code",
   "execution_count": 11,
   "id": "77db53c1-93c9-4417-97da-fa26ce20e948",
   "metadata": {
    "id": "wP3CLC7fydll"
   },
   "outputs": [
    {
     "name": "stdout",
     "output_type": "stream",
     "text": [
      "['еее', 'ееж', 'ееё', 'йцу', 'цук']\n"
     ]
    }
   ],
   "source": [
    "def alph():\n",
    "    ...\n",
    "\n",
    "# new = sorted(input().split(), key=alph)\n",
    "new = sorted(input().split())\n",
    "print(new)"
   ]
  },
  {
   "cell_type": "markdown",
   "id": "1e6d91cb-8540-4458-beaf-f616ca6f25b3",
   "metadata": {
    "id": "jStKjwzrywyt"
   },
   "source": [
    "#### Задача 3. \n",
    "\n",
    "Дан список слов. Упорядочьте его в обратном лексикографическом порядке, как в словаре Зализняка. "
   ]
  },
  {
   "cell_type": "code",
   "execution_count": null,
   "id": "182a0204-f099-4f0c-903b-7489af4bfbcc",
   "metadata": {
    "id": "o8b2bNIKy5bV"
   },
   "outputs": [],
   "source": [
    "# your code here"
   ]
  },
  {
   "cell_type": "markdown",
   "id": "1f2109b5-d4f1-4959-83cd-70ed5f6867ac",
   "metadata": {
    "id": "txNZD5Jny4xd"
   },
   "source": [
    "#### Задача 4. \n",
    "\n",
    "Вводится список чисел, а потом число Х. Удалите из списка все элементы, которые встретились Х раз. "
   ]
  },
  {
   "cell_type": "code",
   "execution_count": 10,
   "id": "2f6c0141-32e0-4acf-9758-3b1294b1f693",
   "metadata": {
    "id": "ceEIBfH7zFwN"
   },
   "outputs": [
    {
     "name": "stdout",
     "output_type": "stream",
     "text": [
      "1 2 3 1 2 3\n"
     ]
    }
   ],
   "source": [
    "l = input().split()\n",
    "x = int(input())\n",
    "new = []\n",
    "\n",
    "for elem in l:\n",
    "    if not l.count(elem) == x:\n",
    "        new.append(elem)\n",
    "\n",
    "l = new\n",
    "print(*l)"
   ]
  }
 ],
 "metadata": {
  "kernelspec": {
   "display_name": "Python 3",
   "language": "python",
   "name": "python3"
  },
  "language_info": {
   "codemirror_mode": {
    "name": "ipython",
    "version": 3
   },
   "file_extension": ".py",
   "mimetype": "text/x-python",
   "name": "python",
   "nbconvert_exporter": "python",
   "pygments_lexer": "ipython3",
   "version": "3.11.4"
  }
 },
 "nbformat": 4,
 "nbformat_minor": 5
}
