{
 "cells": [
  {
   "cell_type": "markdown",
   "id": "d18d94f4-4015-4174-880b-c1dda827aa76",
   "metadata": {},
   "source": [
    "В папке семинара лежит файл gicr.xlsx, в котором содержится выдача корпуса ГИКРЯ для одного запроса. Давайте поработаем с этим файлом.\n",
    "\n",
    "#### Задача 1. \n",
    "\n",
    "- Считайте данные. \n",
    "- Посмотрите информацию по ним: сколько у нас колонок, как они называются, какого они типа, сколько в них ненулевых ячеек?\n",
    "- Проверьте, есть ли дубликаты (по левому и правому контексту). Удалите дубликаты: решите, как именно вы хотите это сделать, избавиться от всех повторов вообще или оставить одно какое-то вхождение?\n",
    "- Заведите новую переменную, в которой будет храниться та же выборка, но без всех пустых ячеек."
   ]
  },
  {
   "cell_type": "code",
   "execution_count": 4,
   "id": "b14e8083-ea86-470b-bc0f-656041b13b8d",
   "metadata": {},
   "outputs": [
    {
     "name": "stdout",
     "output_type": "stream",
     "text": [
      "<class 'pandas.core.frame.DataFrame'>\n",
      "RangeIndex: 1086 entries, 0 to 1085\n",
      "Data columns (total 14 columns):\n",
      " #   Column          Non-Null Count  Dtype  \n",
      "---  ------          --------------  -----  \n",
      " 0   int_id          1086 non-null   int64  \n",
      " 1   left            1053 non-null   object \n",
      " 2   result          1086 non-null   object \n",
      " 3   right           1049 non-null   object \n",
      " 4   birthdate       358 non-null    float64\n",
      " 5   city            709 non-null    object \n",
      " 6   country         795 non-null    object \n",
      " 7   gender          987 non-null    object \n",
      " 8   location        795 non-null    object \n",
      " 9   region          711 non-null    object \n",
      " 10  year            1086 non-null   int64  \n",
      " 11  authorid        1086 non-null   object \n",
      " 12  compose_doc_id  1086 non-null   object \n",
      " 13  doc_size        1086 non-null   int64  \n",
      "dtypes: float64(1), int64(3), object(10)\n",
      "memory usage: 118.9+ KB\n"
     ]
    }
   ],
   "source": [
    "import pandas as pd\n",
    "path = 'gicr.xlsx'\n",
    "data = pd.read_excel(path)\n",
    "data.info()"
   ]
  },
  {
   "cell_type": "code",
   "execution_count": 6,
   "id": "eca5560e",
   "metadata": {},
   "outputs": [
    {
     "data": {
      "text/plain": [
       "np.False_"
      ]
     },
     "execution_count": 6,
     "metadata": {},
     "output_type": "execute_result"
    }
   ],
   "source": [
    "data.duplicated(['left', 'right']).any()"
   ]
  },
  {
   "cell_type": "code",
   "execution_count": 7,
   "id": "a0b3e2ea",
   "metadata": {},
   "outputs": [],
   "source": [
    "data.drop_duplicates(keep='first', inplace=True)"
   ]
  },
  {
   "cell_type": "code",
   "execution_count": 9,
   "id": "141d6a08",
   "metadata": {},
   "outputs": [
    {
     "name": "stdout",
     "output_type": "stream",
     "text": [
      "<class 'pandas.core.frame.DataFrame'>\n",
      "Index: 285 entries, 3 to 1085\n",
      "Data columns (total 14 columns):\n",
      " #   Column          Non-Null Count  Dtype  \n",
      "---  ------          --------------  -----  \n",
      " 0   int_id          285 non-null    int64  \n",
      " 1   left            285 non-null    object \n",
      " 2   result          285 non-null    object \n",
      " 3   right           285 non-null    object \n",
      " 4   birthdate       285 non-null    float64\n",
      " 5   city            285 non-null    object \n",
      " 6   country         285 non-null    object \n",
      " 7   gender          285 non-null    object \n",
      " 8   location        285 non-null    object \n",
      " 9   region          285 non-null    object \n",
      " 10  year            285 non-null    int64  \n",
      " 11  authorid        285 non-null    object \n",
      " 12  compose_doc_id  285 non-null    object \n",
      " 13  doc_size        285 non-null    int64  \n",
      "dtypes: float64(1), int64(3), object(10)\n",
      "memory usage: 33.4+ KB\n"
     ]
    }
   ],
   "source": [
    "new_data = data.dropna()\n",
    "new_data.info()"
   ]
  },
  {
   "cell_type": "markdown",
   "id": "e033897c-8ade-4fa9-8f6d-b6b6cd3c18b6",
   "metadata": {},
   "source": [
    "#### Задача 2.\n",
    "\n",
    "- Сколько в нашей выборке уникальных авторов?\n",
    "- Какой самый ранний год употребления искомого слова в корпусе? А какой самый старый возраст употребившего? Какой средний возраст употребляющих это слово?\n",
    "- Какие города самые представленные в корпусе, судя по этой выборке? (А можем ли мы судить о распространенности употребления слова в запросе по этим цифрам?)"
   ]
  },
  {
   "cell_type": "code",
   "execution_count": 12,
   "id": "7034b6a5-9bb9-4dec-9fdd-063509a3467f",
   "metadata": {},
   "outputs": [
    {
     "name": "stdout",
     "output_type": "stream",
     "text": [
      "<class 'pandas.core.frame.DataFrame'>\n",
      "RangeIndex: 1086 entries, 0 to 1085\n",
      "Data columns (total 14 columns):\n",
      " #   Column          Non-Null Count  Dtype  \n",
      "---  ------          --------------  -----  \n",
      " 0   int_id          1086 non-null   int64  \n",
      " 1   left            1053 non-null   object \n",
      " 2   result          1086 non-null   object \n",
      " 3   right           1049 non-null   object \n",
      " 4   birthdate       358 non-null    float64\n",
      " 5   city            709 non-null    object \n",
      " 6   country         795 non-null    object \n",
      " 7   gender          987 non-null    object \n",
      " 8   location        795 non-null    object \n",
      " 9   region          711 non-null    object \n",
      " 10  year            1086 non-null   int64  \n",
      " 11  authorid        1086 non-null   object \n",
      " 12  compose_doc_id  1086 non-null   object \n",
      " 13  doc_size        1086 non-null   int64  \n",
      "dtypes: float64(1), int64(3), object(10)\n",
      "memory usage: 118.9+ KB\n"
     ]
    }
   ],
   "source": [
    "import pandas as pd\n",
    "data = pd.read_excel(path)\n",
    "data.info()"
   ]
  },
  {
   "cell_type": "code",
   "execution_count": 13,
   "id": "4fe0cfce",
   "metadata": {},
   "outputs": [
    {
     "data": {
      "text/plain": [
       "899"
      ]
     },
     "execution_count": 13,
     "metadata": {},
     "output_type": "execute_result"
    }
   ],
   "source": [
    "len(data.authorid.unique())"
   ]
  },
  {
   "cell_type": "code",
   "execution_count": 14,
   "id": "da7a2ca4",
   "metadata": {},
   "outputs": [
    {
     "data": {
      "text/html": [
       "<div>\n",
       "<style scoped>\n",
       "    .dataframe tbody tr th:only-of-type {\n",
       "        vertical-align: middle;\n",
       "    }\n",
       "\n",
       "    .dataframe tbody tr th {\n",
       "        vertical-align: top;\n",
       "    }\n",
       "\n",
       "    .dataframe thead th {\n",
       "        text-align: right;\n",
       "    }\n",
       "</style>\n",
       "<table border=\"1\" class=\"dataframe\">\n",
       "  <thead>\n",
       "    <tr style=\"text-align: right;\">\n",
       "      <th></th>\n",
       "      <th>int_id</th>\n",
       "      <th>birthdate</th>\n",
       "      <th>year</th>\n",
       "      <th>doc_size</th>\n",
       "    </tr>\n",
       "  </thead>\n",
       "  <tbody>\n",
       "    <tr>\n",
       "      <th>count</th>\n",
       "      <td>1086.000000</td>\n",
       "      <td>358.000000</td>\n",
       "      <td>1086.000000</td>\n",
       "      <td>1086.000000</td>\n",
       "    </tr>\n",
       "    <tr>\n",
       "      <th>mean</th>\n",
       "      <td>543.500000</td>\n",
       "      <td>1987.849162</td>\n",
       "      <td>2013.837017</td>\n",
       "      <td>45.894107</td>\n",
       "    </tr>\n",
       "    <tr>\n",
       "      <th>std</th>\n",
       "      <td>313.645501</td>\n",
       "      <td>14.270482</td>\n",
       "      <td>3.204857</td>\n",
       "      <td>118.836769</td>\n",
       "    </tr>\n",
       "    <tr>\n",
       "      <th>min</th>\n",
       "      <td>1.000000</td>\n",
       "      <td>1902.000000</td>\n",
       "      <td>2007.000000</td>\n",
       "      <td>2.000000</td>\n",
       "    </tr>\n",
       "    <tr>\n",
       "      <th>25%</th>\n",
       "      <td>272.250000</td>\n",
       "      <td>1986.000000</td>\n",
       "      <td>2011.000000</td>\n",
       "      <td>8.000000</td>\n",
       "    </tr>\n",
       "    <tr>\n",
       "      <th>50%</th>\n",
       "      <td>543.500000</td>\n",
       "      <td>1990.500000</td>\n",
       "      <td>2014.000000</td>\n",
       "      <td>15.000000</td>\n",
       "    </tr>\n",
       "    <tr>\n",
       "      <th>75%</th>\n",
       "      <td>814.750000</td>\n",
       "      <td>1995.000000</td>\n",
       "      <td>2016.000000</td>\n",
       "      <td>34.000000</td>\n",
       "    </tr>\n",
       "    <tr>\n",
       "      <th>max</th>\n",
       "      <td>1086.000000</td>\n",
       "      <td>2006.000000</td>\n",
       "      <td>2021.000000</td>\n",
       "      <td>2063.000000</td>\n",
       "    </tr>\n",
       "  </tbody>\n",
       "</table>\n",
       "</div>"
      ],
      "text/plain": [
       "            int_id    birthdate         year     doc_size\n",
       "count  1086.000000   358.000000  1086.000000  1086.000000\n",
       "mean    543.500000  1987.849162  2013.837017    45.894107\n",
       "std     313.645501    14.270482     3.204857   118.836769\n",
       "min       1.000000  1902.000000  2007.000000     2.000000\n",
       "25%     272.250000  1986.000000  2011.000000     8.000000\n",
       "50%     543.500000  1990.500000  2014.000000    15.000000\n",
       "75%     814.750000  1995.000000  2016.000000    34.000000\n",
       "max    1086.000000  2006.000000  2021.000000  2063.000000"
      ]
     },
     "execution_count": 14,
     "metadata": {},
     "output_type": "execute_result"
    }
   ],
   "source": [
    "data.describe()"
   ]
  },
  {
   "cell_type": "code",
   "execution_count": 16,
   "id": "6dbb8625",
   "metadata": {},
   "outputs": [
    {
     "data": {
      "text/plain": [
       "city\n",
       "Москва             123\n",
       "Санкт-Петербург     65\n",
       "Киев                28\n",
       "Екатеринбург        21\n",
       "Минск               15\n",
       "                  ... \n",
       "Оренбург             1\n",
       "Херсон               1\n",
       "Тучково              1\n",
       "Торжок               1\n",
       "Севериновка          1\n",
       "Name: count, Length: 228, dtype: int64"
      ]
     },
     "execution_count": 16,
     "metadata": {},
     "output_type": "execute_result"
    }
   ],
   "source": [
    "data.city.value_counts()"
   ]
  },
  {
   "cell_type": "markdown",
   "id": "4e3bbdbe-6d73-4eda-8d74-f49e6513f95a",
   "metadata": {},
   "source": [
    "#### Задача 3 (2 балла).\n",
    "\n",
    "По сколько авторов приходится на каждый город? (Подсказка: чтобы это посмотреть удобно, вам может пригодиться метод sort_values())"
   ]
  },
  {
   "cell_type": "code",
   "execution_count": 24,
   "id": "efc7546b-6a65-4c59-8061-4c39adce87ec",
   "metadata": {},
   "outputs": [
    {
     "data": {
      "text/plain": [
       "city\n",
       "Москва             102\n",
       "Санкт-Петербург     54\n",
       "Киев                23\n",
       "Екатеринбург        15\n",
       "Минск               15\n",
       "                  ... \n",
       "Чарышское            1\n",
       "Электросталь         1\n",
       "Щёлкино              1\n",
       "Щигры                1\n",
       "Яблоновский          1\n",
       "Name: authorid, Length: 228, dtype: int64"
      ]
     },
     "execution_count": 24,
     "metadata": {},
     "output_type": "execute_result"
    }
   ],
   "source": [
    "data.groupby('city')['authorid'].nunique().sort_values(ascending=False)"
   ]
  }
 ],
 "metadata": {
  "kernelspec": {
   "display_name": "Python 3",
   "language": "python",
   "name": "python3"
  },
  "language_info": {
   "codemirror_mode": {
    "name": "ipython",
    "version": 3
   },
   "file_extension": ".py",
   "mimetype": "text/x-python",
   "name": "python",
   "nbconvert_exporter": "python",
   "pygments_lexer": "ipython3",
   "version": "3.11.4"
  }
 },
 "nbformat": 4,
 "nbformat_minor": 5
}
