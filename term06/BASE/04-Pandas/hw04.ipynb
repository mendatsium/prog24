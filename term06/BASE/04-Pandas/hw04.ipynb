{
 "cells": [
  {
   "cell_type": "markdown",
   "id": "111582ae-356d-49b6-8f53-faa0adbd2536",
   "metadata": {},
   "source": [
    "Поработаем с датасетом Titanic. Это очень известный датасет для машинного обучения, а нам он пригодится, чтобы попрактиковаться с pandas. "
   ]
  },
  {
   "cell_type": "markdown",
   "id": "0b9b4fd7-30c8-4da8-b767-021e20c2f645",
   "metadata": {},
   "source": [
    "#### Задача 1. \n",
    "\n",
    "Считайте датасет (можно скопировать код из лекции). Выведите первые пять строчек датасета. Посмотрите информацию о датасете. Во-первых, пустые ячейки всегда мешают, а во-вторых, в машинном обучении неудобно работать с текстовыми данными и все стараются превращать в цифры. Давайте попробуем почистить датасет с этой позиции, но разумно: \n",
    "\n",
    "- Пропущенные ячейки возраста, наверное, можно заполнить средним арифметическим\n",
    "- Пол можно заменить на чиселки - 1 для одного варианта и 0 для другого (не у всех пол известен, но там таких мало, можно заменить на тот же 0)\n",
    "- Столбцы Ticket, Cabin и Embarked, скорее всего, содержат не очень интересную информацию: можно от них просто избавиться.\n",
    "- Столбец с именами пока оставим как есть. "
   ]
  },
  {
   "cell_type": "code",
   "execution_count": 38,
   "id": "487a89ca-1389-416b-9573-3c43103e75f4",
   "metadata": {},
   "outputs": [
    {
     "name": "stdout",
     "output_type": "stream",
     "text": [
      "Первые 5 строк датасета:\n"
     ]
    },
    {
     "data": {
      "text/html": [
       "<div>\n",
       "<style scoped>\n",
       "    .dataframe tbody tr th:only-of-type {\n",
       "        vertical-align: middle;\n",
       "    }\n",
       "\n",
       "    .dataframe tbody tr th {\n",
       "        vertical-align: top;\n",
       "    }\n",
       "\n",
       "    .dataframe thead th {\n",
       "        text-align: right;\n",
       "    }\n",
       "</style>\n",
       "<table border=\"1\" class=\"dataframe\">\n",
       "  <thead>\n",
       "    <tr style=\"text-align: right;\">\n",
       "      <th></th>\n",
       "      <th>PassengerId</th>\n",
       "      <th>Survived</th>\n",
       "      <th>Pclass</th>\n",
       "      <th>Name</th>\n",
       "      <th>Sex</th>\n",
       "      <th>Age</th>\n",
       "      <th>SibSp</th>\n",
       "      <th>Parch</th>\n",
       "      <th>Ticket</th>\n",
       "      <th>Fare</th>\n",
       "      <th>Cabin</th>\n",
       "      <th>Embarked</th>\n",
       "    </tr>\n",
       "  </thead>\n",
       "  <tbody>\n",
       "    <tr>\n",
       "      <th>0</th>\n",
       "      <td>1</td>\n",
       "      <td>0</td>\n",
       "      <td>3</td>\n",
       "      <td>Braund; Mr. Owen Harris</td>\n",
       "      <td>male</td>\n",
       "      <td>22.0</td>\n",
       "      <td>1</td>\n",
       "      <td>0</td>\n",
       "      <td>A/5 21171</td>\n",
       "      <td>7.2500</td>\n",
       "      <td>NaN</td>\n",
       "      <td>S</td>\n",
       "    </tr>\n",
       "    <tr>\n",
       "      <th>1</th>\n",
       "      <td>2</td>\n",
       "      <td>1</td>\n",
       "      <td>1</td>\n",
       "      <td>Cumings; Mrs. John Bradley (Florence Briggs Th...</td>\n",
       "      <td>female</td>\n",
       "      <td>38.0</td>\n",
       "      <td>1</td>\n",
       "      <td>0</td>\n",
       "      <td>PC 17599</td>\n",
       "      <td>71.2833</td>\n",
       "      <td>C85</td>\n",
       "      <td>C</td>\n",
       "    </tr>\n",
       "    <tr>\n",
       "      <th>2</th>\n",
       "      <td>3</td>\n",
       "      <td>1</td>\n",
       "      <td>3</td>\n",
       "      <td>Heikkinen; Miss. Laina</td>\n",
       "      <td>female</td>\n",
       "      <td>26.0</td>\n",
       "      <td>0</td>\n",
       "      <td>0</td>\n",
       "      <td>STON/O2. 3101282</td>\n",
       "      <td>7.9250</td>\n",
       "      <td>NaN</td>\n",
       "      <td>S</td>\n",
       "    </tr>\n",
       "    <tr>\n",
       "      <th>3</th>\n",
       "      <td>4</td>\n",
       "      <td>1</td>\n",
       "      <td>1</td>\n",
       "      <td>Futrelle; Mrs. Jacques Heath (Lily May Peel)</td>\n",
       "      <td>female</td>\n",
       "      <td>35.0</td>\n",
       "      <td>1</td>\n",
       "      <td>0</td>\n",
       "      <td>113803</td>\n",
       "      <td>53.1000</td>\n",
       "      <td>C123</td>\n",
       "      <td>S</td>\n",
       "    </tr>\n",
       "    <tr>\n",
       "      <th>4</th>\n",
       "      <td>5</td>\n",
       "      <td>0</td>\n",
       "      <td>3</td>\n",
       "      <td>Allen; Mr. William Henry</td>\n",
       "      <td>male</td>\n",
       "      <td>35.0</td>\n",
       "      <td>0</td>\n",
       "      <td>0</td>\n",
       "      <td>373450</td>\n",
       "      <td>8.0500</td>\n",
       "      <td>NaN</td>\n",
       "      <td>S</td>\n",
       "    </tr>\n",
       "  </tbody>\n",
       "</table>\n",
       "</div>"
      ],
      "text/plain": [
       "   PassengerId  Survived  Pclass  \\\n",
       "0            1         0       3   \n",
       "1            2         1       1   \n",
       "2            3         1       3   \n",
       "3            4         1       1   \n",
       "4            5         0       3   \n",
       "\n",
       "                                                Name     Sex   Age  SibSp  \\\n",
       "0                            Braund; Mr. Owen Harris    male  22.0      1   \n",
       "1  Cumings; Mrs. John Bradley (Florence Briggs Th...  female  38.0      1   \n",
       "2                             Heikkinen; Miss. Laina  female  26.0      0   \n",
       "3       Futrelle; Mrs. Jacques Heath (Lily May Peel)  female  35.0      1   \n",
       "4                           Allen; Mr. William Henry    male  35.0      0   \n",
       "\n",
       "   Parch            Ticket     Fare Cabin Embarked  \n",
       "0      0         A/5 21171   7.2500   NaN        S  \n",
       "1      0          PC 17599  71.2833   C85        C  \n",
       "2      0  STON/O2. 3101282   7.9250   NaN        S  \n",
       "3      0            113803  53.1000  C123        S  \n",
       "4      0            373450   8.0500   NaN        S  "
      ]
     },
     "execution_count": 38,
     "metadata": {},
     "output_type": "execute_result"
    }
   ],
   "source": [
    "import pandas as pd\n",
    "\n",
    "df = pd.read_csv('titanic.csv', sep=\";\")\n",
    "print(\"Первые 5 строк датасета:\")\n",
    "df.head()"
   ]
  },
  {
   "cell_type": "code",
   "execution_count": 39,
   "id": "3d8bbee3",
   "metadata": {},
   "outputs": [
    {
     "name": "stdout",
     "output_type": "stream",
     "text": [
      "\n",
      "Информация о датасете:\n",
      "<class 'pandas.core.frame.DataFrame'>\n",
      "RangeIndex: 891 entries, 0 to 890\n",
      "Data columns (total 12 columns):\n",
      " #   Column       Non-Null Count  Dtype  \n",
      "---  ------       --------------  -----  \n",
      " 0   PassengerId  891 non-null    int64  \n",
      " 1   Survived     891 non-null    int64  \n",
      " 2   Pclass       891 non-null    int64  \n",
      " 3   Name         891 non-null    object \n",
      " 4   Sex          891 non-null    object \n",
      " 5   Age          714 non-null    float64\n",
      " 6   SibSp        891 non-null    int64  \n",
      " 7   Parch        891 non-null    int64  \n",
      " 8   Ticket       891 non-null    object \n",
      " 9   Fare         891 non-null    float64\n",
      " 10  Cabin        204 non-null    object \n",
      " 11  Embarked     889 non-null    object \n",
      "dtypes: float64(2), int64(5), object(5)\n",
      "memory usage: 83.7+ KB\n"
     ]
    }
   ],
   "source": [
    "print(\"\\nИнформация о датасете:\")\n",
    "df.info()"
   ]
  },
  {
   "cell_type": "code",
   "execution_count": 40,
   "id": "f1b0da92",
   "metadata": {},
   "outputs": [
    {
     "name": "stdout",
     "output_type": "stream",
     "text": [
      "\n",
      "Первые 5 строк после преобразований:\n"
     ]
    },
    {
     "data": {
      "text/html": [
       "<div>\n",
       "<style scoped>\n",
       "    .dataframe tbody tr th:only-of-type {\n",
       "        vertical-align: middle;\n",
       "    }\n",
       "\n",
       "    .dataframe tbody tr th {\n",
       "        vertical-align: top;\n",
       "    }\n",
       "\n",
       "    .dataframe thead th {\n",
       "        text-align: right;\n",
       "    }\n",
       "</style>\n",
       "<table border=\"1\" class=\"dataframe\">\n",
       "  <thead>\n",
       "    <tr style=\"text-align: right;\">\n",
       "      <th></th>\n",
       "      <th>PassengerId</th>\n",
       "      <th>Survived</th>\n",
       "      <th>Pclass</th>\n",
       "      <th>Name</th>\n",
       "      <th>Sex</th>\n",
       "      <th>Age</th>\n",
       "      <th>SibSp</th>\n",
       "      <th>Parch</th>\n",
       "      <th>Fare</th>\n",
       "    </tr>\n",
       "  </thead>\n",
       "  <tbody>\n",
       "    <tr>\n",
       "      <th>0</th>\n",
       "      <td>1</td>\n",
       "      <td>0</td>\n",
       "      <td>3</td>\n",
       "      <td>Braund; Mr. Owen Harris</td>\n",
       "      <td>1.0</td>\n",
       "      <td>22.0</td>\n",
       "      <td>1</td>\n",
       "      <td>0</td>\n",
       "      <td>7.2500</td>\n",
       "    </tr>\n",
       "    <tr>\n",
       "      <th>1</th>\n",
       "      <td>2</td>\n",
       "      <td>1</td>\n",
       "      <td>1</td>\n",
       "      <td>Cumings; Mrs. John Bradley (Florence Briggs Th...</td>\n",
       "      <td>0.0</td>\n",
       "      <td>38.0</td>\n",
       "      <td>1</td>\n",
       "      <td>0</td>\n",
       "      <td>71.2833</td>\n",
       "    </tr>\n",
       "    <tr>\n",
       "      <th>2</th>\n",
       "      <td>3</td>\n",
       "      <td>1</td>\n",
       "      <td>3</td>\n",
       "      <td>Heikkinen; Miss. Laina</td>\n",
       "      <td>0.0</td>\n",
       "      <td>26.0</td>\n",
       "      <td>0</td>\n",
       "      <td>0</td>\n",
       "      <td>7.9250</td>\n",
       "    </tr>\n",
       "    <tr>\n",
       "      <th>3</th>\n",
       "      <td>4</td>\n",
       "      <td>1</td>\n",
       "      <td>1</td>\n",
       "      <td>Futrelle; Mrs. Jacques Heath (Lily May Peel)</td>\n",
       "      <td>0.0</td>\n",
       "      <td>35.0</td>\n",
       "      <td>1</td>\n",
       "      <td>0</td>\n",
       "      <td>53.1000</td>\n",
       "    </tr>\n",
       "    <tr>\n",
       "      <th>4</th>\n",
       "      <td>5</td>\n",
       "      <td>0</td>\n",
       "      <td>3</td>\n",
       "      <td>Allen; Mr. William Henry</td>\n",
       "      <td>1.0</td>\n",
       "      <td>35.0</td>\n",
       "      <td>0</td>\n",
       "      <td>0</td>\n",
       "      <td>8.0500</td>\n",
       "    </tr>\n",
       "  </tbody>\n",
       "</table>\n",
       "</div>"
      ],
      "text/plain": [
       "   PassengerId  Survived  Pclass  \\\n",
       "0            1         0       3   \n",
       "1            2         1       1   \n",
       "2            3         1       3   \n",
       "3            4         1       1   \n",
       "4            5         0       3   \n",
       "\n",
       "                                                Name  Sex   Age  SibSp  Parch  \\\n",
       "0                            Braund; Mr. Owen Harris  1.0  22.0      1      0   \n",
       "1  Cumings; Mrs. John Bradley (Florence Briggs Th...  0.0  38.0      1      0   \n",
       "2                             Heikkinen; Miss. Laina  0.0  26.0      0      0   \n",
       "3       Futrelle; Mrs. Jacques Heath (Lily May Peel)  0.0  35.0      1      0   \n",
       "4                           Allen; Mr. William Henry  1.0  35.0      0      0   \n",
       "\n",
       "      Fare  \n",
       "0   7.2500  \n",
       "1  71.2833  \n",
       "2   7.9250  \n",
       "3  53.1000  \n",
       "4   8.0500  "
      ]
     },
     "execution_count": 40,
     "metadata": {},
     "output_type": "execute_result"
    }
   ],
   "source": [
    "mean_age = df['Age'].mean()\n",
    "df['Age'] = df['Age'].fillna(mean_age)\n",
    "\n",
    "df = df.drop(columns=['Ticket', 'Cabin', 'Embarked'])\n",
    "\n",
    "df['Sex'] = df['Sex'].map({'male': 1, 'female': 0}).fillna(0)\n",
    "\n",
    "print(\"\\nПервые 5 строк после преобразований:\")\n",
    "df.head()"
   ]
  },
  {
   "cell_type": "code",
   "execution_count": 41,
   "id": "6ed47f42",
   "metadata": {},
   "outputs": [
    {
     "name": "stdout",
     "output_type": "stream",
     "text": [
      "\n",
      "Пропущенные значения:\n",
      "PassengerId    0\n",
      "Survived       0\n",
      "Pclass         0\n",
      "Name           0\n",
      "Sex            0\n",
      "Age            0\n",
      "SibSp          0\n",
      "Parch          0\n",
      "Fare           0\n",
      "dtype: int64\n"
     ]
    }
   ],
   "source": [
    "print(\"\\nПропущенные значения:\")\n",
    "print(df.isnull().sum())"
   ]
  },
  {
   "cell_type": "markdown",
   "id": "3edaa6e8-d2b5-4f22-b800-f52d908f7772",
   "metadata": {},
   "source": [
    "#### Задача 2.\n",
    "\n",
    "Сколько пассажиров выжило, а сколько - нет?"
   ]
  },
  {
   "cell_type": "code",
   "execution_count": 42,
   "id": "04e68fa9-5009-4cd8-9e39-5013f7f05f7e",
   "metadata": {},
   "outputs": [
    {
     "data": {
      "text/plain": [
       "Survived\n",
       "0    549\n",
       "1    342\n",
       "Name: count, dtype: int64"
      ]
     },
     "execution_count": 42,
     "metadata": {},
     "output_type": "execute_result"
    }
   ],
   "source": [
    "survival_counts = df['Survived'].value_counts()\n",
    "survival_counts"
   ]
  },
  {
   "cell_type": "code",
   "execution_count": 43,
   "id": "4f403881",
   "metadata": {},
   "outputs": [
    {
     "name": "stdout",
     "output_type": "stream",
     "text": [
      "\n",
      "Выжило: 342\n",
      "Погибло: 549\n"
     ]
    }
   ],
   "source": [
    "survived = survival_counts.get(1, 0)  \n",
    "not_survived = survival_counts.get(0, 0)\n",
    "\n",
    "print(f\"\\nВыжило: {survived}\")\n",
    "print(f\"Погибло: {not_survived}\")"
   ]
  },
  {
   "cell_type": "markdown",
   "id": "530e5016-ef75-4a1d-a4f6-55b137c23b80",
   "metadata": {},
   "source": [
    "#### Задача 3.\n",
    "\n",
    "Какова доля выживших пассажиров из класса 3? А пассажиров из класса 1? (Доля - это отношение количества выживших пассажиров этого класса к общему количеству выживших пассажиров)"
   ]
  },
  {
   "cell_type": "code",
   "execution_count": 44,
   "id": "34e801c8-063a-4244-8d7e-d3779776b9e7",
   "metadata": {},
   "outputs": [
    {
     "name": "stdout",
     "output_type": "stream",
     "text": [
      "Доля выживших пассажиров из класса 1: 39.77%\n",
      "Доля выживших пассажиров из класса 3: 34.80%\n"
     ]
    }
   ],
   "source": [
    "survived_passengers = df[df['Survived'] == 1]\n",
    "\n",
    "total_survived = len(survived_passengers)\n",
    "survived_by_class = survived_passengers['Pclass'].value_counts()\n",
    "\n",
    "share_class_1 = survived_by_class.get(1, 0) / total_survived\n",
    "share_class_3 = survived_by_class.get(3, 0) / total_survived\n",
    "\n",
    "print(f\"Доля выживших пассажиров из класса 1: {share_class_1:.2%}\")\n",
    "print(f\"Доля выживших пассажиров из класса 3: {share_class_3:.2%}\")"
   ]
  },
  {
   "cell_type": "markdown",
   "id": "a0a3a270-539a-4089-80d7-b81d3704409d",
   "metadata": {},
   "source": [
    "#### Задача 4.\n",
    "\n",
    "Какова доля выживших женщин из первого класса? А доля выживших мужчин из 3 класса?"
   ]
  },
  {
   "cell_type": "code",
   "execution_count": 45,
   "id": "32a57d7c-f0f9-4389-8ac6-79f5dfc53aad",
   "metadata": {},
   "outputs": [
    {
     "name": "stdout",
     "output_type": "stream",
     "text": [
      "Доля выживших женщин из первого класса: 96.81%\n",
      "Доля выживших мужчин из третьего класса: 13.62%\n"
     ]
    }
   ],
   "source": [
    "women_cl1 = df[(df['Pclass'] == 1) & (df['Sex'] == 0)]\n",
    "men_cl3 = df[(df['Pclass'] == 3) & (df['Sex'] == 1)]\n",
    "\n",
    "survived_women_cl1 = women_cl1[women_cl1['Survived'] == 1].shape[0]\n",
    "total_women_cl1 = women_cl1.shape[0]\n",
    "\n",
    "survived_men_cl3 = men_cl3[men_cl3['Survived'] == 1].shape[0]\n",
    "total_men_cl3 = men_cl3.shape[0]\n",
    "\n",
    "print(f\"Доля выживших женщин из первого класса: {survived_women_cl1 / total_women_cl1 if total_women_cl1 > 0 else 0:.2%}\")\n",
    "print(f\"Доля выживших мужчин из третьего класса: {survived_men_cl3 / total_men_cl3 if total_men_cl3 > 0 else 0:.2%}\")"
   ]
  },
  {
   "cell_type": "markdown",
   "id": "ef97c145-3541-4453-9b17-d55d010b7aa9",
   "metadata": {},
   "source": [
    "#### Задача 5. \n",
    "\n",
    "Давайте заведем отдельный столбец с фамилией пассажира. Можно заметить, что в ячейке имени фамилия всегда пишется первой и через точку с запятой. Вам поможет lambda и split."
   ]
  },
  {
   "cell_type": "code",
   "execution_count": 46,
   "id": "eda9d0e3-41ee-4011-abad-8b4552f2fc4a",
   "metadata": {},
   "outputs": [
    {
     "name": "stdout",
     "output_type": "stream",
     "text": [
      "                                                Name    Surname\n",
      "0                            Braund; Mr. Owen Harris     Braund\n",
      "1  Cumings; Mrs. John Bradley (Florence Briggs Th...    Cumings\n",
      "2                             Heikkinen; Miss. Laina  Heikkinen\n",
      "3       Futrelle; Mrs. Jacques Heath (Lily May Peel)   Futrelle\n",
      "4                           Allen; Mr. William Henry      Allen\n"
     ]
    }
   ],
   "source": [
    "df['Surname'] = df['Name'].apply(lambda x: x.split(';')[0].strip())\n",
    "print(df[['Name', 'Surname']].head())"
   ]
  },
  {
   "cell_type": "markdown",
   "id": "6d56ebea-28d1-4458-9fc0-ba8389ec233d",
   "metadata": {},
   "source": [
    "#### Задача 6.\n",
    "\n",
    "Сколько всего получилось семей? Сколько человек в каждой семье? Сколько семей, в которых больше трех человек?"
   ]
  },
  {
   "cell_type": "code",
   "execution_count": 47,
   "id": "366a2d6d-b492-4baf-9b57-5f33808f3c65",
   "metadata": {},
   "outputs": [
    {
     "name": "stdout",
     "output_type": "stream",
     "text": [
      "Всего семей: 667\n",
      "Количество человек в каждой семье:\n",
      "Surname\n",
      "Abbing           1\n",
      "Abbott           2\n",
      "Abelson          2\n",
      "Adahl            1\n",
      "Adams            1\n",
      "                ..\n",
      "de Mulder        1\n",
      "de Pelsmaeker    1\n",
      "del Carlo        1\n",
      "van Billiard     1\n",
      "van Melkebeke    1\n",
      "Length: 667, dtype: int64\n",
      "Семей, в которых больше трех человек: 22\n"
     ]
    }
   ],
   "source": [
    "# я решила делать в тупую по фамилии\n",
    "\n",
    "family_counts = df.groupby('Surname').size() \n",
    "large_families = family_counts[family_counts > 3]\n",
    "\n",
    "print(f\"Всего семей: {len(family_counts)}\")\n",
    "print(f\"Количество человек в каждой семье:\\n{family_counts}\")\n",
    "print(f\"Семей, в которых больше трех человек: {len(large_families)}\")"
   ]
  },
  {
   "cell_type": "markdown",
   "id": "6ff20e2a-3ef4-4ed1-84ae-cb28bdbe7b9b",
   "metadata": {},
   "source": [
    "#### Задача 7.\n",
    "\n",
    "Создайте столбец \"IsChild\", который равен 1, если возраст меньше 20, и 0 иначе. "
   ]
  },
  {
   "cell_type": "code",
   "execution_count": 48,
   "id": "aca43592-b500-45da-8260-231d8f9d96bc",
   "metadata": {},
   "outputs": [
    {
     "name": "stdout",
     "output_type": "stream",
     "text": [
      "                                                Name        Age  IsChild\n",
      "0                            Braund; Mr. Owen Harris  22.000000        0\n",
      "1  Cumings; Mrs. John Bradley (Florence Briggs Th...  38.000000        0\n",
      "2                             Heikkinen; Miss. Laina  26.000000        0\n",
      "3       Futrelle; Mrs. Jacques Heath (Lily May Peel)  35.000000        0\n",
      "4                           Allen; Mr. William Henry  35.000000        0\n",
      "5                                   Moran; Mr. James  29.699118        0\n",
      "6                            McCarthy; Mr. Timothy J  54.000000        0\n",
      "7                     Palsson; Master. Gosta Leonard   2.000000        1\n",
      "8  Johnson; Mrs. Oscar W (Elisabeth Vilhelmina Berg)  27.000000        0\n",
      "9                Nasser; Mrs. Nicholas (Adele Achem)  14.000000        1\n"
     ]
    }
   ],
   "source": [
    "df['IsChild'] = df['Age'].apply(lambda x: 1 if x < 20 else 0)\n",
    "print(df[['Name', 'Age', 'IsChild']].head(10))"
   ]
  },
  {
   "cell_type": "markdown",
   "id": "db330963-45e7-4f37-9261-ccf26ae0f236",
   "metadata": {},
   "source": [
    "#### Задача 8.\n",
    "\n",
    "Какова доля семей, в которых минимальный возраст меньше 20 (семьи с детьми)? По отношению к общему количеству семей."
   ]
  },
  {
   "cell_type": "code",
   "execution_count": 49,
   "id": "a21e78f6-701c-4771-ba52-985b28b6794b",
   "metadata": {},
   "outputs": [
    {
     "name": "stdout",
     "output_type": "stream",
     "text": [
      "Общее количество семей: 667\n",
      "Количество семей с детьми: 124\n",
      "Доля семей с детьми: 18.59%\n"
     ]
    }
   ],
   "source": [
    "fam_min_age = df.groupby('Surname')['Age'].min()\n",
    "total_fam = len(fam_min_age)\n",
    "families_with_children = fam_min_age[fam_min_age < 20]\n",
    "\n",
    "total_families_with_children = len(families_with_children) / total_fam if total_fam > 0 else 0\n",
    "\n",
    "print(f\"Общее количество семей: {total_fam}\")\n",
    "print(f\"Количество семей с детьми: {len(families_with_children)}\")\n",
    "print(f\"Доля семей с детьми: {total_families_with_children:.2%}\")"
   ]
  }
 ],
 "metadata": {
  "kernelspec": {
   "display_name": "Python 3",
   "language": "python",
   "name": "python3"
  },
  "language_info": {
   "codemirror_mode": {
    "name": "ipython",
    "version": 3
   },
   "file_extension": ".py",
   "mimetype": "text/x-python",
   "name": "python",
   "nbconvert_exporter": "python",
   "pygments_lexer": "ipython3",
   "version": "3.11.4"
  }
 },
 "nbformat": 4,
 "nbformat_minor": 5
}
