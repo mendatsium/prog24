{
 "cells": [
  {
   "cell_type": "markdown",
   "id": "fb64053a-792c-4461-ba63-9f49694d1ce0",
   "metadata": {},
   "source": [
    "### Изображения, графики, карты"
   ]
  },
  {
   "cell_type": "markdown",
   "id": "11c527d7-de9e-4404-959a-5d1863ec421a",
   "metadata": {},
   "source": [
    "#### Изображения в Python"
   ]
  },
  {
   "cell_type": "markdown",
   "id": "a1f90eaa-e5af-474e-8395-e8e4ccadfccf",
   "metadata": {},
   "source": [
    "На прошлом семинаре мы с вами познакомились с библиотекой для построения графиков matplotlib. Это очень обширная библиотека, и на самом деле она умеет работать не только с графиками, но и с картинками вообще. Для того, чтобы отобразить в питоне любую картинку с использованием matplotlib, достаточно использовать такой код:"
   ]
  },
  {
   "cell_type": "code",
   "execution_count": null,
   "id": "549d14a1-42f3-44b2-bb1d-ad8e3b994f20",
   "metadata": {},
   "outputs": [],
   "source": [
    "import matplotlib.pyplot as plt\n",
    "import matplotlib.image as img\n",
    "\n",
    "# загружаем картинку по ее адресу\n",
    "testImage = img.imread('files/cat.jpg')\n",
    "\n",
    "# показываем в аутпуте\n",
    "plt.imshow(testImage)"
   ]
  },
  {
   "cell_type": "markdown",
   "id": "46b71d7c-5a4e-48fb-975e-3d1cddd1ce74",
   "metadata": {},
   "source": [
    "На самом деле любая картинка с точки зрения компьютера - это всего лишь табличка с числами (если картинка монохромная, то это одинокая табличка, в которой в каждой ячейке указана интенсивность цвета в соответствующем пикселе, а если картинка в RGB, то таких табличек будет три). matplotlib умеет показывать и собственно чиселки, стоящие за картинкой:"
   ]
  },
  {
   "cell_type": "code",
   "execution_count": null,
   "id": "5f18e59a-761b-4943-ad2c-beeb11ed1b4c",
   "metadata": {},
   "outputs": [],
   "source": [
    "import matplotlib.pyplot as plt\n",
    "import matplotlib.image as img\n",
    "\n",
    "# загружаем картинку по ее адресу\n",
    "testImage = img.imread('files/cat.jpg')\n",
    "\n",
    "# выведем массив чиселок\n",
    "print(testImage)"
   ]
  },
  {
   "cell_type": "markdown",
   "id": "616e0616-234f-45c0-88d1-00e16d1a43c7",
   "metadata": {},
   "source": [
    "В повседневной жизни это, пожалуй, не особо пригождается, но для работы с картинками алгоритмы машинного обучения и нейронные сети нуждаются именно в таком представлении. \n",
    "\n",
    "Но это сакральное знание позволяет смотреть картинку по каналам (только оттенки красного, синего или зеленого) или показывать только ее кусочек. "
   ]
  },
  {
   "cell_type": "code",
   "execution_count": null,
   "id": "49181ff4-f055-4d85-8b91-799f79ae02d4",
   "metadata": {},
   "outputs": [],
   "source": [
    "import matplotlib.pyplot as plt\n",
    "import matplotlib.image as img\n",
    "\n",
    "# загружаем картинку по ее адресу\n",
    "testImage = img.imread('files/cat.jpg')\n",
    "\n",
    "# посмотрим размер картинки: первые два числа - это высота и ширина, а третье число - количество каналов\n",
    "print(testImage.shape)\n",
    "\n",
    "# покажем только первый канал из трех (они нумеруются с нуля!)\n",
    "modifiedImage = testImage[:, :, 0]\n",
    "\n",
    "# посмотрим\n",
    "plt.imshow(modifiedImage)\n"
   ]
  },
  {
   "cell_type": "markdown",
   "id": "1109ebbe-d992-4e73-a3e7-d7d86739c4b5",
   "metadata": {},
   "source": [
    "А теперь посмотрим второй канал из трех и еще и обрежем картинку. "
   ]
  },
  {
   "cell_type": "code",
   "execution_count": null,
   "id": "1338cf95-3c2f-44b2-b524-1637ad3aadbe",
   "metadata": {},
   "outputs": [],
   "source": [
    "import matplotlib.pyplot as plt\n",
    "import matplotlib.image as img\n",
    "\n",
    "# загружаем картинку по ее адресу\n",
    "testImage = img.imread('files/cat.jpg')\n",
    "\n",
    "# посмотрим размер картинки\n",
    "print(testImage.shape)\n",
    "\n",
    "# оставим только часть\n",
    "modifiedImage = testImage[500:1000, 100:1000, 1]\n",
    "\n",
    "# посмотрим\n",
    "plt.imshow(modifiedImage)"
   ]
  },
  {
   "cell_type": "markdown",
   "id": "c6420e9e-c8ff-4247-b5de-df2d47704dc9",
   "metadata": {},
   "source": [
    "Мы можем также настраивать отображение картинки:"
   ]
  },
  {
   "cell_type": "code",
   "execution_count": null,
   "id": "0c8592b5-fb7d-4320-9dd2-518a2d968de6",
   "metadata": {},
   "outputs": [],
   "source": [
    "import matplotlib.pyplot as plt\n",
    "import matplotlib.image as img\n",
    "\n",
    "# загружаем картинку по ее адресу\n",
    "testImage = img.imread('files/cat.jpg')\n",
    "modifiedImage = testImage[:, :, 0]\n",
    "\n",
    "# чтобы можно было настраивать, сохраним в переменную\n",
    "fig = plt.imshow(modifiedImage)\n",
    "fig.set_cmap('Greys') # выставим цветовую схему: ведь для matplotlib наша картинка - только набор чиселок, обозначающих яркость цвета\n",
    "# спрячем оси координат\n",
    "fig.axes.get_xaxis().set_visible(False)\n",
    "fig.axes.get_yaxis().set_visible(False)"
   ]
  },
  {
   "cell_type": "markdown",
   "id": "b2d52696-fde7-4876-91b0-049882c2a9e3",
   "metadata": {},
   "source": [
    "Измененную картинку можно и сохранить, и вообще написать функцию для обработки картинки:"
   ]
  },
  {
   "cell_type": "code",
   "execution_count": null,
   "id": "3f010fcf-1c11-4938-9c26-6fc47aef3ba7",
   "metadata": {},
   "outputs": [],
   "source": [
    "def make_image(inputname,outputname):\n",
    "    '''функция для обработки и сохранения картинки'''\n",
    "    data = img.imread(inputname)[:,:,0] # считываем и сразу оставляем только первый канал из трех\n",
    "    fig = plt.imshow(data) # показываем как картинку\n",
    "    fig.set_cmap('hot') # выбираем цветовую схему\n",
    "    fig.axes.get_xaxis().set_visible(False)\n",
    "    fig.axes.get_yaxis().set_visible(False)\n",
    "    plt.savefig(outputname) # сохраняем по адресу результат"
   ]
  },
  {
   "cell_type": "markdown",
   "id": "45a42467-f263-4aac-8efc-d1e1910baafc",
   "metadata": {},
   "source": [
    "Но для работы с картинками в питоне есть и специализированная библиотека Pillow, которая может частично даже заменить вам фотошоп (ну ладно, в простых задачах). \n",
    "Она может быть предустановлена, но устанавливается, если что, как \n",
    "\n",
    "    pip install Pillow\n",
    "    \n",
    "Если у вас макбук, возможно, понадобится сделать такое (brew - это программа homebrew, если не установлена, нужно скачать и установить):\n",
    "\n",
    "    brew install libtiff libjpeg webp littlecms\n",
    "    sudo pip install Pillow"
   ]
  },
  {
   "cell_type": "markdown",
   "id": "346b6375-67ea-43d5-884c-bb7ba60e7f1e",
   "metadata": {},
   "source": [
    "Pillow поддерживает следующие форматы файлов: BMP, EPS, GIF, IM, JPEG, MSP, PCX PNG, PPM, TIFF, WebP, ICO, PSD, PDF. Некоторые она умеет только читать, а некоторые и записывать тоже. \n",
    "\n",
    "Импортируем обычно так:"
   ]
  },
  {
   "cell_type": "code",
   "execution_count": null,
   "id": "ed828bf3-b427-4b52-963f-6a1b2173ff96",
   "metadata": {},
   "outputs": [],
   "source": [
    "from PIL import Image"
   ]
  },
  {
   "cell_type": "markdown",
   "id": "760cc47a-fed6-4bb1-b089-b9a690f4c086",
   "metadata": {},
   "source": [
    "Загружается картинка тоже очень просто:"
   ]
  },
  {
   "cell_type": "code",
   "execution_count": null,
   "id": "dd86315f-d94e-4070-bcdc-bcb8238634a5",
   "metadata": {},
   "outputs": [],
   "source": [
    "myimage = Image.open('files/cat.jpg')  \n",
    "myimage.load() # после того, как выполним эту функцию, можно будет работать с картинкой в переменной myimage"
   ]
  },
  {
   "cell_type": "markdown",
   "id": "fba1b89f-892b-4102-b8bd-5dbecb81fc2a",
   "metadata": {},
   "source": [
    "Часто еще используется конструкция с try-except, чтобы в случае не найденного файла программа сообщила об этом:"
   ]
  },
  {
   "cell_type": "code",
   "execution_count": null,
   "id": "70abfd2c-366e-4e3c-ab7f-cdf942ce1a7b",
   "metadata": {},
   "outputs": [],
   "source": [
    "try:  \n",
    "    original = Image.open('files/cat.jpg')  \n",
    "except FileNotFoundError:  \n",
    "    print(\"Файл не найден\")"
   ]
  },
  {
   "cell_type": "markdown",
   "id": "ec4cd5fa-a6b3-41e8-bf30-11e8377c1477",
   "metadata": {},
   "source": [
    "Когда мы считываем файлы с диска с помощью функции open(), нам не нужно знать формат файла. Библиотека автоматически определяет формат, основанный на содержании файла.\n",
    "\n",
    "Теперь, когда у вас есть объект Image, вы можете использовать доступные атрибуты для проверки файла. Например, если вы хотите увидеть размер изображения, вы можете использовать атрибут format."
   ]
  },
  {
   "cell_type": "code",
   "execution_count": null,
   "id": "262e3fa5-50cd-4fa5-ab2b-0a29c2d7f372",
   "metadata": {},
   "outputs": [],
   "source": [
    "print(\"Размер изображения:\")  \n",
    "print(original.format, original.size, original.mode)"
   ]
  },
  {
   "cell_type": "markdown",
   "id": "bed8750e-5731-4301-8d11-74040e3b3897",
   "metadata": {},
   "source": [
    "Атрибут size — это tuple, содержащий ширину и высоту (в пикселях). Обычные mode: L для изображений с оттенками серого, RGB для изображений с истинным цветным изображением и CMYK для печати изображений. "
   ]
  },
  {
   "cell_type": "markdown",
   "id": "c48bec74-b218-46cd-b478-b43d66707e03",
   "metadata": {},
   "source": [
    "Картинки в Pillow можно обрабатывать и сохранять. Например, чтобы размыть нашего котика, сделаем такое:"
   ]
  },
  {
   "cell_type": "code",
   "execution_count": null,
   "id": "fee77675-2513-4fa1-8f30-8c9864f5baaf",
   "metadata": {},
   "outputs": [],
   "source": [
    "from PIL import Image, ImageFilter\n",
    "\n",
    "try:\n",
    "    original = Image.open('files/cat.jpg')\n",
    "except FileNotFoundError:\n",
    "    print(\"Файл не найден\")\n",
    "\n",
    "# размываем изображение\n",
    "blurred = original.filter(ImageFilter.BLUR)\n",
    "# открываем оригинал и размытое изображение\n",
    "original.show() # покажет картинку-оригинал\n",
    "blurred.show() # покажет, что получилось\n",
    "# сохраняем изображение\n",
    "blurred.save(\"files/blurred.png\")"
   ]
  },
  {
   "cell_type": "markdown",
   "id": "cc3ec848-3b88-4f1b-94b1-a77c4639c56d",
   "metadata": {},
   "source": [
    "Помимо этого, можно использовать еще такие фильтры:\n",
    "\n",
    "- BLUR\n",
    "- CONTOUR\n",
    "- DETAIL\n",
    "- EDGE_ENHANCE\n",
    "- EDGE_ENHANCE_MORE\n",
    "- EMBOSS\n",
    "- FIND_EDGES\n",
    "- SMOOTH\n",
    "- SMOOTH_MORE\n",
    "- SHARPEN"
   ]
  },
  {
   "cell_type": "markdown",
   "id": "0724a5f0-6a2a-48b0-a20c-fe3431cbc68a",
   "metadata": {},
   "source": [
    "Можно еще делать thumbnails (иконки). Это часто бывает нужно для того, чтобы делать какие-нибудь favicons для сайтов и прочие штуки. "
   ]
  },
  {
   "cell_type": "code",
   "execution_count": 15,
   "id": "fa93daab-90d2-4491-af0f-83ae95255fc2",
   "metadata": {},
   "outputs": [],
   "source": [
    "size = (128, 128) # размер иконки\n",
    "saved = 'files/cat_thumbnail.jpg' # путь, куда будем сохранять\n",
    "img = Image.open('files/cat.jpg')\n",
    "img.thumbnail(size)\n",
    "img.save(saved)\n",
    "img.show()"
   ]
  },
  {
   "cell_type": "markdown",
   "id": "bdd0f093-8687-4137-8bf8-0dd91c68889a",
   "metadata": {},
   "source": [
    "Pillow умеет делать и другие вещи: изменять размер изображения, поворачивать его, сжимать, растягивать, обрезать. Но эти вещи подробно рассматривать не будем, их легко нагуглить самостоятельно."
   ]
  },
  {
   "cell_type": "markdown",
   "id": "1081deaf-1740-439c-9cfa-6792943d418e",
   "metadata": {},
   "source": [
    "#### Карты в Python"
   ]
  },
  {
   "cell_type": "markdown",
   "id": "f79baa7e-e114-4ab6-9616-70613d82b513",
   "metadata": {},
   "source": [
    "Иногда бывает нужно создавать интерактивные карты, например, такие карты есть на известном вам сайте WALS Online. Основная библиотека, которая умеет это делать в питоне, называется folium. Эта библиотека умеет создавать не только сами карты, которые можно масштабировать и всячески перетаскивать мышкой (как в Google Maps), но и размещает маркеры, показывает широту и долготу по наведению мышки и прочее подобное. \n",
    "\n",
    "Устанавливается так:\n",
    "\n",
    "    pip install folium==0.14 \n",
    "    \n",
    "(мы явно указываем версию библиотеки, потому что в более новых не будет работать отображение маркеров из geojson :().\n",
    "\n",
    "Далее нужно импортировать:"
   ]
  },
  {
   "cell_type": "code",
   "execution_count": 4,
   "id": "7fb1084d-8919-46c7-b7de-5919fa28f5d3",
   "metadata": {},
   "outputs": [],
   "source": [
    "import folium\n",
    "from folium import plugins\n",
    "from folium.plugins import MarkerCluster\n",
    "from folium.plugins import MousePosition \n",
    "from folium.features import DivIcon\n",
    "\n",
    "# можно не все, а только то, что будете использовать"
   ]
  },
  {
   "cell_type": "markdown",
   "id": "bf2f3b02-8880-4a6f-83d7-76813a36e3c2",
   "metadata": {},
   "source": [
    "Итак, основной объект folium - это собственно карта. Создать карту очень легко:"
   ]
  },
  {
   "cell_type": "code",
   "execution_count": 5,
   "id": "f85b06a7-31b7-499b-9519-e2309c50145d",
   "metadata": {},
   "outputs": [
    {
     "data": {
      "text/html": [
       "<div style=\"width:100%;\"><div style=\"position:relative;width:100%;height:0;padding-bottom:60%;\"><span style=\"color:#565656\">Make this Notebook Trusted to load map: File -> Trust Notebook</span><iframe srcdoc=\"&lt;!DOCTYPE html&gt;\n",
       "&lt;html&gt;\n",
       "&lt;head&gt;\n",
       "    \n",
       "    &lt;meta http-equiv=&quot;content-type&quot; content=&quot;text/html; charset=UTF-8&quot; /&gt;\n",
       "    \n",
       "        &lt;script&gt;\n",
       "            L_NO_TOUCH = false;\n",
       "            L_DISABLE_3D = false;\n",
       "        &lt;/script&gt;\n",
       "    \n",
       "    &lt;style&gt;html, body {width: 100%;height: 100%;margin: 0;padding: 0;}&lt;/style&gt;\n",
       "    &lt;style&gt;#map {position:absolute;top:0;bottom:0;right:0;left:0;}&lt;/style&gt;\n",
       "    &lt;script src=&quot;https://cdn.jsdelivr.net/npm/leaflet@1.9.3/dist/leaflet.js&quot;&gt;&lt;/script&gt;\n",
       "    &lt;script src=&quot;https://code.jquery.com/jquery-1.12.4.min.js&quot;&gt;&lt;/script&gt;\n",
       "    &lt;script src=&quot;https://cdn.jsdelivr.net/npm/bootstrap@5.2.2/dist/js/bootstrap.bundle.min.js&quot;&gt;&lt;/script&gt;\n",
       "    &lt;script src=&quot;https://cdnjs.cloudflare.com/ajax/libs/Leaflet.awesome-markers/2.0.2/leaflet.awesome-markers.js&quot;&gt;&lt;/script&gt;\n",
       "    &lt;link rel=&quot;stylesheet&quot; href=&quot;https://cdn.jsdelivr.net/npm/leaflet@1.9.3/dist/leaflet.css&quot;/&gt;\n",
       "    &lt;link rel=&quot;stylesheet&quot; href=&quot;https://cdn.jsdelivr.net/npm/bootstrap@5.2.2/dist/css/bootstrap.min.css&quot;/&gt;\n",
       "    &lt;link rel=&quot;stylesheet&quot; href=&quot;https://netdna.bootstrapcdn.com/bootstrap/3.0.0/css/bootstrap.min.css&quot;/&gt;\n",
       "    &lt;link rel=&quot;stylesheet&quot; href=&quot;https://cdn.jsdelivr.net/npm/@fortawesome/fontawesome-free@6.2.0/css/all.min.css&quot;/&gt;\n",
       "    &lt;link rel=&quot;stylesheet&quot; href=&quot;https://cdnjs.cloudflare.com/ajax/libs/Leaflet.awesome-markers/2.0.2/leaflet.awesome-markers.css&quot;/&gt;\n",
       "    &lt;link rel=&quot;stylesheet&quot; href=&quot;https://cdn.jsdelivr.net/gh/python-visualization/folium/folium/templates/leaflet.awesome.rotate.min.css&quot;/&gt;\n",
       "    \n",
       "            &lt;meta name=&quot;viewport&quot; content=&quot;width=device-width,\n",
       "                initial-scale=1.0, maximum-scale=1.0, user-scalable=no&quot; /&gt;\n",
       "            &lt;style&gt;\n",
       "                #map_78973bdfe53618f554e66c464fab926c {\n",
       "                    position: relative;\n",
       "                    width: 100.0%;\n",
       "                    height: 100.0%;\n",
       "                    left: 0.0%;\n",
       "                    top: 0.0%;\n",
       "                }\n",
       "                .leaflet-container { font-size: 1rem; }\n",
       "            &lt;/style&gt;\n",
       "        \n",
       "&lt;/head&gt;\n",
       "&lt;body&gt;\n",
       "    \n",
       "    \n",
       "            &lt;div class=&quot;folium-map&quot; id=&quot;map_78973bdfe53618f554e66c464fab926c&quot; &gt;&lt;/div&gt;\n",
       "        \n",
       "&lt;/body&gt;\n",
       "&lt;script&gt;\n",
       "    \n",
       "    \n",
       "            var map_78973bdfe53618f554e66c464fab926c = L.map(\n",
       "                &quot;map_78973bdfe53618f554e66c464fab926c&quot;,\n",
       "                {\n",
       "                    center: [0, 0],\n",
       "                    crs: L.CRS.EPSG3857,\n",
       "                    zoom: 1,\n",
       "                    zoomControl: true,\n",
       "                    preferCanvas: false,\n",
       "                }\n",
       "            );\n",
       "\n",
       "            \n",
       "\n",
       "        \n",
       "    \n",
       "            var tile_layer_f805d2bb096a8d56bdbdc5687b10520b = L.tileLayer(\n",
       "                &quot;https://{s}.tile.openstreetmap.org/{z}/{x}/{y}.png&quot;,\n",
       "                {&quot;attribution&quot;: &quot;Data by \\u0026copy; \\u003ca target=\\&quot;_blank\\&quot; href=\\&quot;http://openstreetmap.org\\&quot;\\u003eOpenStreetMap\\u003c/a\\u003e, under \\u003ca target=\\&quot;_blank\\&quot; href=\\&quot;http://www.openstreetmap.org/copyright\\&quot;\\u003eODbL\\u003c/a\\u003e.&quot;, &quot;detectRetina&quot;: false, &quot;maxNativeZoom&quot;: 18, &quot;maxZoom&quot;: 18, &quot;minZoom&quot;: 0, &quot;noWrap&quot;: false, &quot;opacity&quot;: 1, &quot;subdomains&quot;: &quot;abc&quot;, &quot;tms&quot;: false}\n",
       "            ).addTo(map_78973bdfe53618f554e66c464fab926c);\n",
       "        \n",
       "&lt;/script&gt;\n",
       "&lt;/html&gt;\" style=\"position:absolute;width:100%;height:100%;left:0;top:0;border:none !important;\" allowfullscreen webkitallowfullscreen mozallowfullscreen></iframe></div></div>"
      ],
      "text/plain": [
       "<folium.folium.Map at 0x1d1636db650>"
      ]
     },
     "execution_count": 5,
     "metadata": {},
     "output_type": "execute_result"
    }
   ],
   "source": [
    "world_map = folium.Map() # инициализируем объект \"карта\" - по умолчанию это карта всего мира\n",
    "world_map # если просто написать переменную в конце, юпитер автоматически ее покажет"
   ]
  },
  {
   "cell_type": "markdown",
   "id": "14bc9d83-e3ff-4871-88a0-70f3c9966c9e",
   "metadata": {},
   "source": [
    "Также можно использовать такую штуку:"
   ]
  },
  {
   "cell_type": "code",
   "execution_count": 6,
   "id": "ba18aadc-2e42-4f2b-937d-91e40fa193c1",
   "metadata": {},
   "outputs": [
    {
     "data": {
      "text/html": [
       "<div style=\"width:100%;\"><div style=\"position:relative;width:100%;height:0;padding-bottom:60%;\"><span style=\"color:#565656\">Make this Notebook Trusted to load map: File -> Trust Notebook</span><iframe srcdoc=\"&lt;!DOCTYPE html&gt;\n",
       "&lt;html&gt;\n",
       "&lt;head&gt;\n",
       "    \n",
       "    &lt;meta http-equiv=&quot;content-type&quot; content=&quot;text/html; charset=UTF-8&quot; /&gt;\n",
       "    \n",
       "        &lt;script&gt;\n",
       "            L_NO_TOUCH = false;\n",
       "            L_DISABLE_3D = false;\n",
       "        &lt;/script&gt;\n",
       "    \n",
       "    &lt;style&gt;html, body {width: 100%;height: 100%;margin: 0;padding: 0;}&lt;/style&gt;\n",
       "    &lt;style&gt;#map {position:absolute;top:0;bottom:0;right:0;left:0;}&lt;/style&gt;\n",
       "    &lt;script src=&quot;https://cdn.jsdelivr.net/npm/leaflet@1.9.3/dist/leaflet.js&quot;&gt;&lt;/script&gt;\n",
       "    &lt;script src=&quot;https://code.jquery.com/jquery-1.12.4.min.js&quot;&gt;&lt;/script&gt;\n",
       "    &lt;script src=&quot;https://cdn.jsdelivr.net/npm/bootstrap@5.2.2/dist/js/bootstrap.bundle.min.js&quot;&gt;&lt;/script&gt;\n",
       "    &lt;script src=&quot;https://cdnjs.cloudflare.com/ajax/libs/Leaflet.awesome-markers/2.0.2/leaflet.awesome-markers.js&quot;&gt;&lt;/script&gt;\n",
       "    &lt;link rel=&quot;stylesheet&quot; href=&quot;https://cdn.jsdelivr.net/npm/leaflet@1.9.3/dist/leaflet.css&quot;/&gt;\n",
       "    &lt;link rel=&quot;stylesheet&quot; href=&quot;https://cdn.jsdelivr.net/npm/bootstrap@5.2.2/dist/css/bootstrap.min.css&quot;/&gt;\n",
       "    &lt;link rel=&quot;stylesheet&quot; href=&quot;https://netdna.bootstrapcdn.com/bootstrap/3.0.0/css/bootstrap.min.css&quot;/&gt;\n",
       "    &lt;link rel=&quot;stylesheet&quot; href=&quot;https://cdn.jsdelivr.net/npm/@fortawesome/fontawesome-free@6.2.0/css/all.min.css&quot;/&gt;\n",
       "    &lt;link rel=&quot;stylesheet&quot; href=&quot;https://cdnjs.cloudflare.com/ajax/libs/Leaflet.awesome-markers/2.0.2/leaflet.awesome-markers.css&quot;/&gt;\n",
       "    &lt;link rel=&quot;stylesheet&quot; href=&quot;https://cdn.jsdelivr.net/gh/python-visualization/folium/folium/templates/leaflet.awesome.rotate.min.css&quot;/&gt;\n",
       "    \n",
       "            &lt;meta name=&quot;viewport&quot; content=&quot;width=device-width,\n",
       "                initial-scale=1.0, maximum-scale=1.0, user-scalable=no&quot; /&gt;\n",
       "            &lt;style&gt;\n",
       "                #map_78973bdfe53618f554e66c464fab926c {\n",
       "                    position: relative;\n",
       "                    width: 100.0%;\n",
       "                    height: 100.0%;\n",
       "                    left: 0.0%;\n",
       "                    top: 0.0%;\n",
       "                }\n",
       "                .leaflet-container { font-size: 1rem; }\n",
       "            &lt;/style&gt;\n",
       "        \n",
       "&lt;/head&gt;\n",
       "&lt;body&gt;\n",
       "    \n",
       "    \n",
       "            &lt;div class=&quot;folium-map&quot; id=&quot;map_78973bdfe53618f554e66c464fab926c&quot; &gt;&lt;/div&gt;\n",
       "        \n",
       "&lt;/body&gt;\n",
       "&lt;script&gt;\n",
       "    \n",
       "    \n",
       "            var map_78973bdfe53618f554e66c464fab926c = L.map(\n",
       "                &quot;map_78973bdfe53618f554e66c464fab926c&quot;,\n",
       "                {\n",
       "                    center: [0, 0],\n",
       "                    crs: L.CRS.EPSG3857,\n",
       "                    zoom: 1,\n",
       "                    zoomControl: true,\n",
       "                    preferCanvas: false,\n",
       "                }\n",
       "            );\n",
       "\n",
       "            \n",
       "\n",
       "        \n",
       "    \n",
       "            var tile_layer_f805d2bb096a8d56bdbdc5687b10520b = L.tileLayer(\n",
       "                &quot;https://{s}.tile.openstreetmap.org/{z}/{x}/{y}.png&quot;,\n",
       "                {&quot;attribution&quot;: &quot;Data by \\u0026copy; \\u003ca target=\\&quot;_blank\\&quot; href=\\&quot;http://openstreetmap.org\\&quot;\\u003eOpenStreetMap\\u003c/a\\u003e, under \\u003ca target=\\&quot;_blank\\&quot; href=\\&quot;http://www.openstreetmap.org/copyright\\&quot;\\u003eODbL\\u003c/a\\u003e.&quot;, &quot;detectRetina&quot;: false, &quot;maxNativeZoom&quot;: 18, &quot;maxZoom&quot;: 18, &quot;minZoom&quot;: 0, &quot;noWrap&quot;: false, &quot;opacity&quot;: 1, &quot;subdomains&quot;: &quot;abc&quot;, &quot;tms&quot;: false}\n",
       "            ).addTo(map_78973bdfe53618f554e66c464fab926c);\n",
       "        \n",
       "&lt;/script&gt;\n",
       "&lt;/html&gt;\" style=\"position:absolute;width:100%;height:100%;left:0;top:0;border:none !important;\" allowfullscreen webkitallowfullscreen mozallowfullscreen></iframe></div></div>"
      ],
      "text/plain": [
       "<folium.folium.Map at 0x1d1636db650>"
      ]
     },
     "metadata": {},
     "output_type": "display_data"
    }
   ],
   "source": [
    "from IPython.display import display\n",
    "\n",
    "display(world_map)"
   ]
  },
  {
   "cell_type": "markdown",
   "id": "ef8cabd4-541c-4cf4-b464-18325c86498d",
   "metadata": {},
   "source": [
    "Уже с этой картой можно играться: масштабировать ее и рассматривать. Но обычно мы хотим заранее настроить карту, чтобы она открывалась не колбасой по всему миру, а, например, на конкретной стране. \n",
    "\n",
    "У Map() есть ряд настраиваемых параметров:\n",
    "\n",
    "- location (tuple or list, default:None) : ширина и долгота карты (например, для России можно указать \\[64.6863136, 97.7453061\\]\n",
    "- width & heigth (int, string, default :'100%') : int в пикселях, str в процентах ('100' или '100%')\n",
    "- min_zoom (int, default:0) : минимальный разрешенный зум-уровень\n",
    "- max_zoom (int, default:18): максимальный разрешенный зум-уровень\n",
    "- zoom_start(int, default:10) : стартовое увеличение\n",
    "- tiles : стиль карты (default=OpenStreetMap, Stamen Terrain, Stamen Toner, Mapbox Bright, Mapbox Control Room, etc)\n",
    "\n",
    "Про стили (красивенькое!) можно посмотреть подробнее в [документации](https://python-visualization.github.io/folium/latest/user_guide/raster_layers/tiles.html). "
   ]
  },
  {
   "cell_type": "markdown",
   "id": "75b79ab1-129f-4093-b45a-83a5686adb95",
   "metadata": {},
   "source": [
    "Вот, например, как можно отобразить карту Кореи:"
   ]
  },
  {
   "cell_type": "code",
   "execution_count": 7,
   "id": "97d139d0-ce54-4dc6-af39-7cc13e00fe7f",
   "metadata": {
    "tags": []
   },
   "outputs": [
    {
     "data": {
      "text/html": [
       "<div style=\"width:100%;\"><div style=\"position:relative;width:100%;height:0;padding-bottom:60%;\"><span style=\"color:#565656\">Make this Notebook Trusted to load map: File -> Trust Notebook</span><iframe srcdoc=\"&lt;!DOCTYPE html&gt;\n",
       "&lt;html&gt;\n",
       "&lt;head&gt;\n",
       "    \n",
       "    &lt;meta http-equiv=&quot;content-type&quot; content=&quot;text/html; charset=UTF-8&quot; /&gt;\n",
       "    \n",
       "        &lt;script&gt;\n",
       "            L_NO_TOUCH = false;\n",
       "            L_DISABLE_3D = false;\n",
       "        &lt;/script&gt;\n",
       "    \n",
       "    &lt;style&gt;html, body {width: 100%;height: 100%;margin: 0;padding: 0;}&lt;/style&gt;\n",
       "    &lt;style&gt;#map {position:absolute;top:0;bottom:0;right:0;left:0;}&lt;/style&gt;\n",
       "    &lt;script src=&quot;https://cdn.jsdelivr.net/npm/leaflet@1.9.3/dist/leaflet.js&quot;&gt;&lt;/script&gt;\n",
       "    &lt;script src=&quot;https://code.jquery.com/jquery-1.12.4.min.js&quot;&gt;&lt;/script&gt;\n",
       "    &lt;script src=&quot;https://cdn.jsdelivr.net/npm/bootstrap@5.2.2/dist/js/bootstrap.bundle.min.js&quot;&gt;&lt;/script&gt;\n",
       "    &lt;script src=&quot;https://cdnjs.cloudflare.com/ajax/libs/Leaflet.awesome-markers/2.0.2/leaflet.awesome-markers.js&quot;&gt;&lt;/script&gt;\n",
       "    &lt;link rel=&quot;stylesheet&quot; href=&quot;https://cdn.jsdelivr.net/npm/leaflet@1.9.3/dist/leaflet.css&quot;/&gt;\n",
       "    &lt;link rel=&quot;stylesheet&quot; href=&quot;https://cdn.jsdelivr.net/npm/bootstrap@5.2.2/dist/css/bootstrap.min.css&quot;/&gt;\n",
       "    &lt;link rel=&quot;stylesheet&quot; href=&quot;https://netdna.bootstrapcdn.com/bootstrap/3.0.0/css/bootstrap.min.css&quot;/&gt;\n",
       "    &lt;link rel=&quot;stylesheet&quot; href=&quot;https://cdn.jsdelivr.net/npm/@fortawesome/fontawesome-free@6.2.0/css/all.min.css&quot;/&gt;\n",
       "    &lt;link rel=&quot;stylesheet&quot; href=&quot;https://cdnjs.cloudflare.com/ajax/libs/Leaflet.awesome-markers/2.0.2/leaflet.awesome-markers.css&quot;/&gt;\n",
       "    &lt;link rel=&quot;stylesheet&quot; href=&quot;https://cdn.jsdelivr.net/gh/python-visualization/folium/folium/templates/leaflet.awesome.rotate.min.css&quot;/&gt;\n",
       "    \n",
       "            &lt;meta name=&quot;viewport&quot; content=&quot;width=device-width,\n",
       "                initial-scale=1.0, maximum-scale=1.0, user-scalable=no&quot; /&gt;\n",
       "            &lt;style&gt;\n",
       "                #map_d0c541e8958aced92660e79bbeef338d {\n",
       "                    position: relative;\n",
       "                    width: 100.0%;\n",
       "                    height: 100.0%;\n",
       "                    left: 0.0%;\n",
       "                    top: 0.0%;\n",
       "                }\n",
       "                .leaflet-container { font-size: 1rem; }\n",
       "            &lt;/style&gt;\n",
       "        \n",
       "&lt;/head&gt;\n",
       "&lt;body&gt;\n",
       "    \n",
       "    \n",
       "            &lt;div class=&quot;folium-map&quot; id=&quot;map_d0c541e8958aced92660e79bbeef338d&quot; &gt;&lt;/div&gt;\n",
       "        \n",
       "&lt;/body&gt;\n",
       "&lt;script&gt;\n",
       "    \n",
       "    \n",
       "            var map_d0c541e8958aced92660e79bbeef338d = L.map(\n",
       "                &quot;map_d0c541e8958aced92660e79bbeef338d&quot;,\n",
       "                {\n",
       "                    center: [37.0, 126.0],\n",
       "                    crs: L.CRS.EPSG3857,\n",
       "                    zoom: 7,\n",
       "                    zoomControl: true,\n",
       "                    preferCanvas: false,\n",
       "                }\n",
       "            );\n",
       "\n",
       "            \n",
       "\n",
       "        \n",
       "    \n",
       "            var tile_layer_7b5a654c3a61b6fd9a478822a13daa51 = L.tileLayer(\n",
       "                &quot;https://{s}.tile.openstreetmap.org/{z}/{x}/{y}.png&quot;,\n",
       "                {&quot;attribution&quot;: &quot;Data by \\u0026copy; \\u003ca target=\\&quot;_blank\\&quot; href=\\&quot;http://openstreetmap.org\\&quot;\\u003eOpenStreetMap\\u003c/a\\u003e, under \\u003ca target=\\&quot;_blank\\&quot; href=\\&quot;http://www.openstreetmap.org/copyright\\&quot;\\u003eODbL\\u003c/a\\u003e.&quot;, &quot;detectRetina&quot;: false, &quot;maxNativeZoom&quot;: 18, &quot;maxZoom&quot;: 18, &quot;minZoom&quot;: 0, &quot;noWrap&quot;: false, &quot;opacity&quot;: 1, &quot;subdomains&quot;: &quot;abc&quot;, &quot;tms&quot;: false}\n",
       "            ).addTo(map_d0c541e8958aced92660e79bbeef338d);\n",
       "        \n",
       "&lt;/script&gt;\n",
       "&lt;/html&gt;\" style=\"position:absolute;width:100%;height:100%;left:0;top:0;border:none !important;\" allowfullscreen webkitallowfullscreen mozallowfullscreen></iframe></div></div>"
      ],
      "text/plain": [
       "<folium.folium.Map at 0x1d16522b450>"
      ]
     },
     "execution_count": 7,
     "metadata": {},
     "output_type": "execute_result"
    }
   ],
   "source": [
    "korea_black = folium.Map(location=[37, 126], # нужно знать координаты \n",
    "                   zoom_start=7)\n",
    "                   # tiles='Stamen Toner' # внешний вид карты\n",
    "                  \n",
    "korea_black"
   ]
  },
  {
   "cell_type": "markdown",
   "id": "3b42cb7b-eb0a-40b7-85d8-6191485264b4",
   "metadata": {},
   "source": [
    "folium на самом деле работает на основе библиотеки JavaScript leaflet.js, поэтому он хорошо вписывается в html. Карту можно сохранить как html-страницу:"
   ]
  },
  {
   "cell_type": "code",
   "execution_count": 9,
   "id": "7f8504e4-22bc-4c93-8c86-5f35850475bf",
   "metadata": {},
   "outputs": [],
   "source": [
    "korea_black.save('korea_map.html')"
   ]
  },
  {
   "cell_type": "markdown",
   "id": "fc4979fa-3f1b-419e-b9f0-e3b6d3fa3202",
   "metadata": {},
   "source": [
    "На карте, разумеется, можно размещать маркеры. Можно размещать одиночные маркеры с помощью объекта folium.Marker, у которого тоже есть ряд настроек:\n",
    "\n",
    "- tooltip : str, подсказка, которая будет появляться, когда мышка наводится на маркер\n",
    "- popup : html-код (str) подсказка (форматированная), которая будет появляться при щелчке на маркер\n",
    "- icon : внешний вид иконки. В библиотеке есть свой набор иконок, а можно и кастомную задать. "
   ]
  },
  {
   "cell_type": "markdown",
   "id": "ea78d599-6c46-4a1c-8be1-9afe90fb6963",
   "metadata": {},
   "source": [
    "Добавим в нашу Корею пару маркеров (имейте в виду, что карта korea_black у нас в ячейке выше задана):"
   ]
  },
  {
   "cell_type": "code",
   "execution_count": 10,
   "id": "d7b579ed-6656-44c1-b2a0-e2b04bc0da16",
   "metadata": {},
   "outputs": [
    {
     "data": {
      "text/html": [
       "<div style=\"width:100%;\"><div style=\"position:relative;width:100%;height:0;padding-bottom:60%;\"><span style=\"color:#565656\">Make this Notebook Trusted to load map: File -> Trust Notebook</span><iframe srcdoc=\"&lt;!DOCTYPE html&gt;\n",
       "&lt;html&gt;\n",
       "&lt;head&gt;\n",
       "    \n",
       "    &lt;meta http-equiv=&quot;content-type&quot; content=&quot;text/html; charset=UTF-8&quot; /&gt;\n",
       "    \n",
       "        &lt;script&gt;\n",
       "            L_NO_TOUCH = false;\n",
       "            L_DISABLE_3D = false;\n",
       "        &lt;/script&gt;\n",
       "    \n",
       "    &lt;style&gt;html, body {width: 100%;height: 100%;margin: 0;padding: 0;}&lt;/style&gt;\n",
       "    &lt;style&gt;#map {position:absolute;top:0;bottom:0;right:0;left:0;}&lt;/style&gt;\n",
       "    &lt;script src=&quot;https://cdn.jsdelivr.net/npm/leaflet@1.9.3/dist/leaflet.js&quot;&gt;&lt;/script&gt;\n",
       "    &lt;script src=&quot;https://code.jquery.com/jquery-1.12.4.min.js&quot;&gt;&lt;/script&gt;\n",
       "    &lt;script src=&quot;https://cdn.jsdelivr.net/npm/bootstrap@5.2.2/dist/js/bootstrap.bundle.min.js&quot;&gt;&lt;/script&gt;\n",
       "    &lt;script src=&quot;https://cdnjs.cloudflare.com/ajax/libs/Leaflet.awesome-markers/2.0.2/leaflet.awesome-markers.js&quot;&gt;&lt;/script&gt;\n",
       "    &lt;link rel=&quot;stylesheet&quot; href=&quot;https://cdn.jsdelivr.net/npm/leaflet@1.9.3/dist/leaflet.css&quot;/&gt;\n",
       "    &lt;link rel=&quot;stylesheet&quot; href=&quot;https://cdn.jsdelivr.net/npm/bootstrap@5.2.2/dist/css/bootstrap.min.css&quot;/&gt;\n",
       "    &lt;link rel=&quot;stylesheet&quot; href=&quot;https://netdna.bootstrapcdn.com/bootstrap/3.0.0/css/bootstrap.min.css&quot;/&gt;\n",
       "    &lt;link rel=&quot;stylesheet&quot; href=&quot;https://cdn.jsdelivr.net/npm/@fortawesome/fontawesome-free@6.2.0/css/all.min.css&quot;/&gt;\n",
       "    &lt;link rel=&quot;stylesheet&quot; href=&quot;https://cdnjs.cloudflare.com/ajax/libs/Leaflet.awesome-markers/2.0.2/leaflet.awesome-markers.css&quot;/&gt;\n",
       "    &lt;link rel=&quot;stylesheet&quot; href=&quot;https://cdn.jsdelivr.net/gh/python-visualization/folium/folium/templates/leaflet.awesome.rotate.min.css&quot;/&gt;\n",
       "    \n",
       "            &lt;meta name=&quot;viewport&quot; content=&quot;width=device-width,\n",
       "                initial-scale=1.0, maximum-scale=1.0, user-scalable=no&quot; /&gt;\n",
       "            &lt;style&gt;\n",
       "                #map_d0c541e8958aced92660e79bbeef338d {\n",
       "                    position: relative;\n",
       "                    width: 100.0%;\n",
       "                    height: 100.0%;\n",
       "                    left: 0.0%;\n",
       "                    top: 0.0%;\n",
       "                }\n",
       "                .leaflet-container { font-size: 1rem; }\n",
       "            &lt;/style&gt;\n",
       "        \n",
       "&lt;/head&gt;\n",
       "&lt;body&gt;\n",
       "    \n",
       "    \n",
       "            &lt;div class=&quot;folium-map&quot; id=&quot;map_d0c541e8958aced92660e79bbeef338d&quot; &gt;&lt;/div&gt;\n",
       "        \n",
       "&lt;/body&gt;\n",
       "&lt;script&gt;\n",
       "    \n",
       "    \n",
       "            var map_d0c541e8958aced92660e79bbeef338d = L.map(\n",
       "                &quot;map_d0c541e8958aced92660e79bbeef338d&quot;,\n",
       "                {\n",
       "                    center: [37.0, 126.0],\n",
       "                    crs: L.CRS.EPSG3857,\n",
       "                    zoom: 7,\n",
       "                    zoomControl: true,\n",
       "                    preferCanvas: false,\n",
       "                }\n",
       "            );\n",
       "\n",
       "            \n",
       "\n",
       "        \n",
       "    \n",
       "            var tile_layer_7b5a654c3a61b6fd9a478822a13daa51 = L.tileLayer(\n",
       "                &quot;https://{s}.tile.openstreetmap.org/{z}/{x}/{y}.png&quot;,\n",
       "                {&quot;attribution&quot;: &quot;Data by \\u0026copy; \\u003ca target=\\&quot;_blank\\&quot; href=\\&quot;http://openstreetmap.org\\&quot;\\u003eOpenStreetMap\\u003c/a\\u003e, under \\u003ca target=\\&quot;_blank\\&quot; href=\\&quot;http://www.openstreetmap.org/copyright\\&quot;\\u003eODbL\\u003c/a\\u003e.&quot;, &quot;detectRetina&quot;: false, &quot;maxNativeZoom&quot;: 18, &quot;maxZoom&quot;: 18, &quot;minZoom&quot;: 0, &quot;noWrap&quot;: false, &quot;opacity&quot;: 1, &quot;subdomains&quot;: &quot;abc&quot;, &quot;tms&quot;: false}\n",
       "            ).addTo(map_d0c541e8958aced92660e79bbeef338d);\n",
       "        \n",
       "    \n",
       "            var marker_224026116a3445929f4d6282db4d15c2 = L.marker(\n",
       "                [37.56, 126.97],\n",
       "                {}\n",
       "            ).addTo(map_d0c541e8958aced92660e79bbeef338d);\n",
       "        \n",
       "    \n",
       "        var popup_56d97d800ff8865e5594d3a74fe8427f = L.popup({&quot;maxWidth&quot;: &quot;100%&quot;});\n",
       "\n",
       "        \n",
       "            \n",
       "                var html_759b19522d27feb362084d098d4086d9 = $(`&lt;div id=&quot;html_759b19522d27feb362084d098d4086d9&quot; style=&quot;width: 100.0%; height: 100.0%;&quot;&gt;&lt;i&gt;The capital of Korea&lt;/i&gt;&lt;/div&gt;`)[0];\n",
       "                popup_56d97d800ff8865e5594d3a74fe8427f.setContent(html_759b19522d27feb362084d098d4086d9);\n",
       "            \n",
       "        \n",
       "\n",
       "        marker_224026116a3445929f4d6282db4d15c2.bindPopup(popup_56d97d800ff8865e5594d3a74fe8427f)\n",
       "        ;\n",
       "\n",
       "        \n",
       "    \n",
       "    \n",
       "            marker_224026116a3445929f4d6282db4d15c2.bindTooltip(\n",
       "                `&lt;div&gt;\n",
       "                     Seoul\n",
       "                 &lt;/div&gt;`,\n",
       "                {&quot;sticky&quot;: true}\n",
       "            );\n",
       "        \n",
       "    \n",
       "            var marker_ae0747926b7661886bd5050986ae8931 = L.marker(\n",
       "                [37.45, 126.7],\n",
       "                {}\n",
       "            ).addTo(map_d0c541e8958aced92660e79bbeef338d);\n",
       "        \n",
       "    \n",
       "            var icon_782e9446cae9bbd9ed3718a3b6a91830 = L.AwesomeMarkers.icon(\n",
       "                {&quot;extraClasses&quot;: &quot;fa-rotate-0&quot;, &quot;icon&quot;: &quot;plane&quot;, &quot;iconColor&quot;: &quot;white&quot;, &quot;markerColor&quot;: &quot;red&quot;, &quot;prefix&quot;: &quot;glyphicon&quot;}\n",
       "            );\n",
       "            marker_ae0747926b7661886bd5050986ae8931.setIcon(icon_782e9446cae9bbd9ed3718a3b6a91830);\n",
       "        \n",
       "    \n",
       "        var popup_40f0e4d038a2107f377d626a27fc6ab8 = L.popup({&quot;maxWidth&quot;: &quot;100%&quot;});\n",
       "\n",
       "        \n",
       "            \n",
       "                var html_f68bfd796d0dc328233d8aef62c4c835 = $(`&lt;div id=&quot;html_f68bfd796d0dc328233d8aef62c4c835&quot; style=&quot;width: 100.0%; height: 100.0%;&quot;&gt;&lt;i&gt;International Airport&lt;/i&gt;&lt;/div&gt;`)[0];\n",
       "                popup_40f0e4d038a2107f377d626a27fc6ab8.setContent(html_f68bfd796d0dc328233d8aef62c4c835);\n",
       "            \n",
       "        \n",
       "\n",
       "        marker_ae0747926b7661886bd5050986ae8931.bindPopup(popup_40f0e4d038a2107f377d626a27fc6ab8)\n",
       "        ;\n",
       "\n",
       "        \n",
       "    \n",
       "    \n",
       "            marker_ae0747926b7661886bd5050986ae8931.bindTooltip(\n",
       "                `&lt;div&gt;\n",
       "                     Incheon\n",
       "                 &lt;/div&gt;`,\n",
       "                {&quot;sticky&quot;: true}\n",
       "            );\n",
       "        \n",
       "&lt;/script&gt;\n",
       "&lt;/html&gt;\" style=\"position:absolute;width:100%;height:100%;left:0;top:0;border:none !important;\" allowfullscreen webkitallowfullscreen mozallowfullscreen></iframe></div></div>"
      ],
      "text/plain": [
       "<folium.folium.Map at 0x1d16522b450>"
      ]
     },
     "execution_count": 10,
     "metadata": {},
     "output_type": "execute_result"
    }
   ],
   "source": [
    "folium.Marker([37.56, 126.97], # приходится знать широту и долготу\n",
    "              popup='<i>The capital of Korea</i>', \n",
    "              tooltip='Seoul'\n",
    "             ).add_to(korea_black) # добавляем на карту\n",
    "\n",
    "folium.Marker([37.45, 126.70], \n",
    "              popup='<i>International Airport</i>', \n",
    "              tooltip='Incheon',\n",
    "              icon=folium.Icon(icon='plane', color='red')\n",
    "             ).add_to(korea_black)\n",
    "\n",
    "\n",
    "korea_black"
   ]
  },
  {
   "cell_type": "markdown",
   "id": "18f0654a-2666-4fe2-9937-5cdf498ee42e",
   "metadata": {},
   "source": [
    "Получается, чтобы уметь писать popup, нужно хотя бы чуточку знать про html-код. На самом деле, если написать просто текст, он отобразится, а можно использовать разные простые коды, например, как в ячейке выше: `<i> </i>` сделает все, что внутри него, курсивом. Как правило, большинство html-команд устроено именно таким образом (что-то в треугольных скобках, потом то, к чему применяется команда, потом закрывающий тег в треугольных скобках со слешом). "
   ]
  },
  {
   "cell_type": "markdown",
   "id": "168f42d9-b719-4d77-9b67-2eda56549327",
   "metadata": {},
   "source": [
    "Плагин MousePosition позволяет нам посмотреть и широту с долготой прямо на самой карте (чтобы потом использовать):"
   ]
  },
  {
   "cell_type": "code",
   "execution_count": 16,
   "id": "9369b9ec-0b12-4879-a92a-9382f97458e8",
   "metadata": {},
   "outputs": [
    {
     "data": {
      "text/html": [
       "<div style=\"width:100%;\"><div style=\"position:relative;width:100%;height:0;padding-bottom:60%;\"><span style=\"color:#565656\">Make this Notebook Trusted to load map: File -> Trust Notebook</span><iframe srcdoc=\"&lt;!DOCTYPE html&gt;\n",
       "&lt;html&gt;\n",
       "&lt;head&gt;\n",
       "    \n",
       "    &lt;meta http-equiv=&quot;content-type&quot; content=&quot;text/html; charset=UTF-8&quot; /&gt;\n",
       "    \n",
       "        &lt;script&gt;\n",
       "            L_NO_TOUCH = false;\n",
       "            L_DISABLE_3D = false;\n",
       "        &lt;/script&gt;\n",
       "    \n",
       "    &lt;style&gt;html, body {width: 100%;height: 100%;margin: 0;padding: 0;}&lt;/style&gt;\n",
       "    &lt;style&gt;#map {position:absolute;top:0;bottom:0;right:0;left:0;}&lt;/style&gt;\n",
       "    &lt;script src=&quot;https://cdn.jsdelivr.net/npm/leaflet@1.9.3/dist/leaflet.js&quot;&gt;&lt;/script&gt;\n",
       "    &lt;script src=&quot;https://code.jquery.com/jquery-1.12.4.min.js&quot;&gt;&lt;/script&gt;\n",
       "    &lt;script src=&quot;https://cdn.jsdelivr.net/npm/bootstrap@5.2.2/dist/js/bootstrap.bundle.min.js&quot;&gt;&lt;/script&gt;\n",
       "    &lt;script src=&quot;https://cdnjs.cloudflare.com/ajax/libs/Leaflet.awesome-markers/2.0.2/leaflet.awesome-markers.js&quot;&gt;&lt;/script&gt;\n",
       "    &lt;link rel=&quot;stylesheet&quot; href=&quot;https://cdn.jsdelivr.net/npm/leaflet@1.9.3/dist/leaflet.css&quot;/&gt;\n",
       "    &lt;link rel=&quot;stylesheet&quot; href=&quot;https://cdn.jsdelivr.net/npm/bootstrap@5.2.2/dist/css/bootstrap.min.css&quot;/&gt;\n",
       "    &lt;link rel=&quot;stylesheet&quot; href=&quot;https://netdna.bootstrapcdn.com/bootstrap/3.0.0/css/bootstrap.min.css&quot;/&gt;\n",
       "    &lt;link rel=&quot;stylesheet&quot; href=&quot;https://cdn.jsdelivr.net/npm/@fortawesome/fontawesome-free@6.2.0/css/all.min.css&quot;/&gt;\n",
       "    &lt;link rel=&quot;stylesheet&quot; href=&quot;https://cdnjs.cloudflare.com/ajax/libs/Leaflet.awesome-markers/2.0.2/leaflet.awesome-markers.css&quot;/&gt;\n",
       "    &lt;link rel=&quot;stylesheet&quot; href=&quot;https://cdn.jsdelivr.net/gh/python-visualization/folium/folium/templates/leaflet.awesome.rotate.min.css&quot;/&gt;\n",
       "    \n",
       "            &lt;meta name=&quot;viewport&quot; content=&quot;width=device-width,\n",
       "                initial-scale=1.0, maximum-scale=1.0, user-scalable=no&quot; /&gt;\n",
       "            &lt;style&gt;\n",
       "                #map_20237a96b6f93033cfed204c6888a89f {\n",
       "                    position: relative;\n",
       "                    width: 100.0%;\n",
       "                    height: 100.0%;\n",
       "                    left: 0.0%;\n",
       "                    top: 0.0%;\n",
       "                }\n",
       "                .leaflet-container { font-size: 1rem; }\n",
       "            &lt;/style&gt;\n",
       "        \n",
       "    &lt;script src=&quot;https://cdn.jsdelivr.net/gh/ardhi/Leaflet.MousePosition/src/L.Control.MousePosition.min.js&quot;&gt;&lt;/script&gt;\n",
       "    &lt;link rel=&quot;stylesheet&quot; href=&quot;https://cdn.jsdelivr.net/gh/ardhi/Leaflet.MousePosition/src/L.Control.MousePosition.min.css&quot;/&gt;\n",
       "&lt;/head&gt;\n",
       "&lt;body&gt;\n",
       "    \n",
       "    \n",
       "            &lt;div class=&quot;folium-map&quot; id=&quot;map_20237a96b6f93033cfed204c6888a89f&quot; &gt;&lt;/div&gt;\n",
       "        \n",
       "&lt;/body&gt;\n",
       "&lt;script&gt;\n",
       "    \n",
       "    \n",
       "            var map_20237a96b6f93033cfed204c6888a89f = L.map(\n",
       "                &quot;map_20237a96b6f93033cfed204c6888a89f&quot;,\n",
       "                {\n",
       "                    center: [64.6863136, 97.7453061],\n",
       "                    crs: L.CRS.EPSG3857,\n",
       "                    zoom: 4,\n",
       "                    zoomControl: true,\n",
       "                    preferCanvas: false,\n",
       "                }\n",
       "            );\n",
       "\n",
       "            \n",
       "\n",
       "        \n",
       "    \n",
       "            var tile_layer_44f148e205ef4812ac2324111cb3dfbe = L.tileLayer(\n",
       "                &quot;https://{s}.tile.openstreetmap.org/{z}/{x}/{y}.png&quot;,\n",
       "                {&quot;attribution&quot;: &quot;Data by \\u0026copy; \\u003ca target=\\&quot;_blank\\&quot; href=\\&quot;http://openstreetmap.org\\&quot;\\u003eOpenStreetMap\\u003c/a\\u003e, under \\u003ca target=\\&quot;_blank\\&quot; href=\\&quot;http://www.openstreetmap.org/copyright\\&quot;\\u003eODbL\\u003c/a\\u003e.&quot;, &quot;detectRetina&quot;: false, &quot;maxNativeZoom&quot;: 18, &quot;maxZoom&quot;: 18, &quot;minZoom&quot;: 0, &quot;noWrap&quot;: false, &quot;opacity&quot;: 1, &quot;subdomains&quot;: &quot;abc&quot;, &quot;tms&quot;: false}\n",
       "            ).addTo(map_20237a96b6f93033cfed204c6888a89f);\n",
       "        \n",
       "    \n",
       "            var mouse_position_8cccb4f0fa4abe742a39aa3f923d9bc1 = new L.Control.MousePosition(\n",
       "                {&quot;emptyString&quot;: &quot;NaN&quot;, &quot;lngFirst&quot;: false, &quot;numDigits&quot;: 20, &quot;position&quot;: &quot;topright&quot;, &quot;prefix&quot;: &quot;Lat:&quot;, &quot;separator&quot;: &quot; Long: &quot;}\n",
       "            );\n",
       "            mouse_position_8cccb4f0fa4abe742a39aa3f923d9bc1.options[&quot;latFormatter&quot;] =\n",
       "                function(num) {return L.Util.formatNum(num, 5);};;\n",
       "            mouse_position_8cccb4f0fa4abe742a39aa3f923d9bc1.options[&quot;lngFormatter&quot;] =\n",
       "                function(num) {return L.Util.formatNum(num, 5);};;\n",
       "            map_20237a96b6f93033cfed204c6888a89f.addControl(mouse_position_8cccb4f0fa4abe742a39aa3f923d9bc1);\n",
       "        \n",
       "&lt;/script&gt;\n",
       "&lt;/html&gt;\" style=\"position:absolute;width:100%;height:100%;left:0;top:0;border:none !important;\" allowfullscreen webkitallowfullscreen mozallowfullscreen></iframe></div></div>"
      ],
      "text/plain": [
       "<folium.folium.Map at 0x1d1651ffed0>"
      ]
     },
     "execution_count": 16,
     "metadata": {},
     "output_type": "execute_result"
    }
   ],
   "source": [
    "# сделаем карту России\n",
    "russia_map = folium.Map(\n",
    "    location = [64.6863136, 97.7453061],    \n",
    "    zoom_start = 4\n",
    ")\n",
    "\n",
    "formatter = \"function(num) {return L.Util.formatNum(num, 5);};\" # это проще копировать\n",
    "mouse_position = MousePosition(\n",
    "    position='topright', # где будет находиться окошко с координатами\n",
    "    separator=' Long: ', # долгота\n",
    "    empty_string='NaN', # что будет показываться, когда координат нет\n",
    "    lng_first=False,\n",
    "    num_digits=20, # сколько цифр влезет\n",
    "    prefix='Lat:', # широта\n",
    "    lat_formatter=formatter,\n",
    "    lng_formatter=formatter,\n",
    ")\n",
    "\n",
    "russia_map.add_child(mouse_position)\n",
    "russia_map"
   ]
  },
  {
   "cell_type": "markdown",
   "id": "2886b324-6656-492f-b7f2-4915f53d1f50",
   "metadata": {},
   "source": [
    "Карта в folium - это что-то вроде подложки, любые вещи кладутся на нее как слои. Так, в коде выше мы добавляем к карте \"ребенка\" - окошечко с координатами. Также мы добавляем на карту маркеры, а можем добавлять прямо целые слои маркеров, если нам нужно их много сразу показать. "
   ]
  },
  {
   "cell_type": "markdown",
   "id": "b2dbc06c-8bbb-4f32-b32f-2ab8dd53f982",
   "metadata": {},
   "source": [
    "Собственно, давайте посмотрим, как можно загружать в питоне карты с WALS. Если открыть любую карту на сайте, WALS позволяет скачать ее в формате geojson: это слово написано в правом верхнем углу карты. Как правило, на нашей WALS-карте присутствует на самом деле несколько слоев с маркерами: для разных характеристик. Чтобы перенести карту WALS, нужно сперва сохранить все слои по отдельности как файлы .geojson (можно просто .json), я для примера сохранила три таких слоя в папку files. \n",
    "\n",
    "Дальше нужно загрузить информацию с geojson (можно на самом деле просто вставлять в код, но это неудобно) и добавить в виде слоев на карту. "
   ]
  },
  {
   "cell_type": "code",
   "execution_count": 13,
   "id": "aa5cfd94-c62f-4493-930a-79c0ab1fba07",
   "metadata": {},
   "outputs": [
    {
     "ename": "FileNotFoundError",
     "evalue": "[Errno 2] No such file or directory: 'files/12Asimple.geojson'",
     "output_type": "error",
     "traceback": [
      "\u001b[1;31m---------------------------------------------------------------------------\u001b[0m",
      "\u001b[1;31mFileNotFoundError\u001b[0m                         Traceback (most recent call last)",
      "Cell \u001b[1;32mIn[13], line 3\u001b[0m\n\u001b[0;32m      1\u001b[0m \u001b[38;5;28;01mimport\u001b[39;00m \u001b[38;5;21;01mjson\u001b[39;00m \n\u001b[1;32m----> 3\u001b[0m simple \u001b[38;5;241m=\u001b[39m json\u001b[38;5;241m.\u001b[39mload(\u001b[38;5;28;43mopen\u001b[39;49m\u001b[43m(\u001b[49m\u001b[38;5;124;43m'\u001b[39;49m\u001b[38;5;124;43mfiles/12Asimple.geojson\u001b[39;49m\u001b[38;5;124;43m'\u001b[39;49m\u001b[43m)\u001b[49m)\n\u001b[0;32m      4\u001b[0m mcomplex \u001b[38;5;241m=\u001b[39m json\u001b[38;5;241m.\u001b[39mload(\u001b[38;5;28mopen\u001b[39m(\u001b[38;5;124m'\u001b[39m\u001b[38;5;124mfiles/12Amcomplex.geojson\u001b[39m\u001b[38;5;124m'\u001b[39m))\n\u001b[0;32m      5\u001b[0m compl \u001b[38;5;241m=\u001b[39m json\u001b[38;5;241m.\u001b[39mload(\u001b[38;5;28mopen\u001b[39m(\u001b[38;5;124m'\u001b[39m\u001b[38;5;124mfiles/12Acomplex.geojson\u001b[39m\u001b[38;5;124m'\u001b[39m))\n",
      "File \u001b[1;32m~\\AppData\\Roaming\\Python\\Python311\\site-packages\\IPython\\core\\interactiveshell.py:284\u001b[0m, in \u001b[0;36m_modified_open\u001b[1;34m(file, *args, **kwargs)\u001b[0m\n\u001b[0;32m    277\u001b[0m \u001b[38;5;28;01mif\u001b[39;00m file \u001b[38;5;129;01min\u001b[39;00m {\u001b[38;5;241m0\u001b[39m, \u001b[38;5;241m1\u001b[39m, \u001b[38;5;241m2\u001b[39m}:\n\u001b[0;32m    278\u001b[0m     \u001b[38;5;28;01mraise\u001b[39;00m \u001b[38;5;167;01mValueError\u001b[39;00m(\n\u001b[0;32m    279\u001b[0m         \u001b[38;5;124mf\u001b[39m\u001b[38;5;124m\"\u001b[39m\u001b[38;5;124mIPython won\u001b[39m\u001b[38;5;124m'\u001b[39m\u001b[38;5;124mt let you open fd=\u001b[39m\u001b[38;5;132;01m{\u001b[39;00mfile\u001b[38;5;132;01m}\u001b[39;00m\u001b[38;5;124m by default \u001b[39m\u001b[38;5;124m\"\u001b[39m\n\u001b[0;32m    280\u001b[0m         \u001b[38;5;124m\"\u001b[39m\u001b[38;5;124mas it is likely to crash IPython. If you know what you are doing, \u001b[39m\u001b[38;5;124m\"\u001b[39m\n\u001b[0;32m    281\u001b[0m         \u001b[38;5;124m\"\u001b[39m\u001b[38;5;124myou can use builtins\u001b[39m\u001b[38;5;124m'\u001b[39m\u001b[38;5;124m open.\u001b[39m\u001b[38;5;124m\"\u001b[39m\n\u001b[0;32m    282\u001b[0m     )\n\u001b[1;32m--> 284\u001b[0m \u001b[38;5;28;01mreturn\u001b[39;00m \u001b[43mio_open\u001b[49m\u001b[43m(\u001b[49m\u001b[43mfile\u001b[49m\u001b[43m,\u001b[49m\u001b[43m \u001b[49m\u001b[38;5;241;43m*\u001b[39;49m\u001b[43margs\u001b[49m\u001b[43m,\u001b[49m\u001b[43m \u001b[49m\u001b[38;5;241;43m*\u001b[39;49m\u001b[38;5;241;43m*\u001b[39;49m\u001b[43mkwargs\u001b[49m\u001b[43m)\u001b[49m\n",
      "\u001b[1;31mFileNotFoundError\u001b[0m: [Errno 2] No such file or directory: 'files/12Asimple.geojson'"
     ]
    }
   ],
   "source": [
    "import json \n",
    "\n",
    "simple = json.load(open('files/12Asimple.geojson'))\n",
    "mcomplex = json.load(open('files/12Amcomplex.geojson'))\n",
    "compl = json.load(open('files/12Acomplex.geojson'))\n",
    "m = folium.Map(location=[50, 90], zoom_start=2)\n",
    "\n",
    "folium.GeoJson(\n",
    "    simple,\n",
    "    zoom_on_click=True,\n",
    "    marker=folium.Marker(icon=folium.Icon(color=\"green\",icon=\"circle\", prefix='fa')),\n",
    ").add_to(m)\n",
    "\n",
    "folium.GeoJson(\n",
    "    mcomplex,\n",
    "    zoom_on_click=True,\n",
    "    marker=folium.Marker(icon=folium.Icon(color=\"pink\",icon=\"heart\", prefix='fa')),\n",
    ").add_to(m)\n",
    "    \n",
    "folium.GeoJson(\n",
    "    compl,\n",
    "    zoom_on_click=True,\n",
    "    marker=folium.Marker(icon=folium.Icon(color=\"red\",icon=\"cog\", prefix='fa')),\n",
    ").add_to(m)\n",
    "\n",
    "m"
   ]
  },
  {
   "cell_type": "markdown",
   "id": "c1dfd792-75bd-47c1-ae87-61d647578494",
   "metadata": {},
   "source": [
    "Вопрос: откуда брать иконочки?\n",
    "\n",
    "Можно смотреть их на двух ресурсах:\n",
    "\n",
    "- [FontAwesome](https://fontawesome.com/v4/icons/)\n",
    "- [glyphicons](https://getbootstrap.com/docs/3.3/components/)\n",
    "\n",
    "Для первых нужно указывать prefix='fa' (просто выбираете любое название), а для вторых не нужно указывать префикс. \n",
    "\n",
    "Можно даже свою кастомную картинку загрузить:\n",
    "\n",
    "    folium.CustomIcon('путь к картинке', icon_size=(24, 24))"
   ]
  }
 ],
 "metadata": {
  "kernelspec": {
   "display_name": "Python 3",
   "language": "python",
   "name": "python3"
  },
  "language_info": {
   "codemirror_mode": {
    "name": "ipython",
    "version": 3
   },
   "file_extension": ".py",
   "mimetype": "text/x-python",
   "name": "python",
   "nbconvert_exporter": "python",
   "pygments_lexer": "ipython3",
   "version": "3.11.4"
  }
 },
 "nbformat": 4,
 "nbformat_minor": 5
}
